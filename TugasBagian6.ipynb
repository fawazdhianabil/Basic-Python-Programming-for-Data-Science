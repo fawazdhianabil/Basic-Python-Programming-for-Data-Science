{
  "nbformat": 4,
  "nbformat_minor": 0,
  "metadata": {
    "colab": {
      "name": "TugasBagian6.ipynb",
      "provenance": [],
      "collapsed_sections": [],
      "authorship_tag": "ABX9TyOt6fjEbpujMB0ay2Zf1Zrl",
      "include_colab_link": true
    },
    "kernelspec": {
      "name": "python3",
      "display_name": "Python 3"
    },
    "language_info": {
      "name": "python"
    }
  },
  "cells": [
    {
      "cell_type": "markdown",
      "metadata": {
        "id": "view-in-github",
        "colab_type": "text"
      },
      "source": [
        "<a href=\"https://colab.research.google.com/github/fawazdhianabil/Basic-Python-Programming-for-Data-Science/blob/main/TugasBagian6.ipynb\" target=\"_parent\"><img src=\"https://colab.research.google.com/assets/colab-badge.svg\" alt=\"Open In Colab\"/></a>"
      ]
    },
    {
      "cell_type": "code",
      "metadata": {
        "id": "pT1Bw9O7TwVX"
      },
      "source": [
        "import numpy as np"
      ],
      "execution_count": null,
      "outputs": []
    },
    {
      "cell_type": "code",
      "metadata": {
        "colab": {
          "base_uri": "https://localhost:8080/"
        },
        "id": "1I_oCD4KSQlv",
        "outputId": "f02ad8d9-2cc1-4708-bffc-19c355d5ce8c"
      },
      "source": [
        "#1. Membuat Numpy Array\n",
        "##Numpy Array dengan List\n",
        "arraynabil = np.array([100,90,80,80,90,100])\n",
        "print('Nilai Nabil :', arraynabil)"
      ],
      "execution_count": null,
      "outputs": [
        {
          "output_type": "stream",
          "text": [
            "Nilai Nabil : [100  90  80  80  90 100]\n"
          ],
          "name": "stdout"
        }
      ]
    },
    {
      "cell_type": "code",
      "metadata": {
        "colab": {
          "base_uri": "https://localhost:8080/"
        },
        "id": "33hXU41yTNsg",
        "outputId": "55031805-9d9f-4f3b-f096-697e574dd57f"
      },
      "source": [
        "#2. Vektor dengan Numpy Array\n",
        "n = int(input('Masukkan Jumlah Kolom = '))\n",
        "nabil = np.random.randint(1,10, size = (1,n))\n",
        "print(nabil)"
      ],
      "execution_count": null,
      "outputs": [
        {
          "output_type": "stream",
          "text": [
            "Masukkan Jumlah Kolom = 5\n",
            "[[8 7 3 3 1]]\n"
          ],
          "name": "stdout"
        }
      ]
    },
    {
      "cell_type": "code",
      "metadata": {
        "colab": {
          "base_uri": "https://localhost:8080/"
        },
        "id": "l6n2xitEVQVo",
        "outputId": "68b25cd9-94ed-4ef3-94c6-7ef3c22daef1"
      },
      "source": [
        "#3. Operasi Vektor\n",
        "print(nabil+2)\n",
        "print(nabil-2)\n",
        "print(nabil*2)"
      ],
      "execution_count": null,
      "outputs": [
        {
          "output_type": "stream",
          "text": [
            "[[9 8 4 4 2]]\n",
            "[[7 6 2 2 0]]\n",
            "[[8 7 3 3 1]]\n"
          ],
          "name": "stdout"
        }
      ]
    },
    {
      "cell_type": "code",
      "metadata": {
        "colab": {
          "base_uri": "https://localhost:8080/"
        },
        "id": "wP8Pr-MZVto-",
        "outputId": "a276876f-dbaf-4ca1-d5d8-c1cefd3d6e90"
      },
      "source": [
        "#4. Matriks dengan Numpy Array\n",
        "matriksnbl = np.array([[1, 2],[4,5]])\n",
        "print(matriksnbl)"
      ],
      "execution_count": null,
      "outputs": [
        {
          "output_type": "stream",
          "text": [
            "[[1 2]\n",
            " [4 5]]\n"
          ],
          "name": "stdout"
        }
      ]
    },
    {
      "cell_type": "code",
      "metadata": {
        "colab": {
          "base_uri": "https://localhost:8080/"
        },
        "id": "kSQNlU7mVtx-",
        "outputId": "6ad3f55e-2d61-4e92-9945-cd9a60e407af"
      },
      "source": [
        "#5. Operasi Matriks \n",
        "print(\"-\"*6)\n",
        "print('Penjumlahan Skalar')\n",
        "print(matriksnbl+2)\n",
        "print(\"-\"*6)\n",
        "print('Pengurangan Skalar')\n",
        "print(matriksnbl-2)\n",
        "print(\"-\"*6)\n",
        "print('Perkalian Skalar')\n",
        "print(matriksnbl*2)\n",
        "print(\"-\"*6)\n",
        "print('Perkalian Matriks')\n",
        "print(matriksnbl*(np.array([[3,2],[6,5]])))"
      ],
      "execution_count": null,
      "outputs": [
        {
          "output_type": "stream",
          "text": [
            "------\n",
            "Penjumlahan Skalar\n",
            "[[3 4]\n",
            " [6 7]]\n",
            "------\n",
            "Pengurangan Skalar\n",
            "[[-1  0]\n",
            " [ 2  3]]\n",
            "------\n",
            "Perkalian Skalar\n",
            "[[ 2  4]\n",
            " [ 8 10]]\n",
            "------\n",
            "Perkalian Matriks\n",
            "[[ 3  4]\n",
            " [24 25]]\n"
          ],
          "name": "stdout"
        }
      ]
    },
    {
      "cell_type": "code",
      "metadata": {
        "colab": {
          "base_uri": "https://localhost:8080/"
        },
        "id": "JJesAPvgXi5C",
        "outputId": "cf6edcf3-6273-4c89-a2d0-1afd6de7660a"
      },
      "source": [
        "#6. Dot Product dan Cross Product\n",
        "anabil = np.array([2,1])\n",
        "bnabil = np.array([3,4])\n",
        "print('Hasil Cross Product = ', np.cross(anabil,bnabil))\n",
        "print('Hasil Dot Product =', np.dot(anabil,bnabil))"
      ],
      "execution_count": null,
      "outputs": [
        {
          "output_type": "stream",
          "text": [
            "Hasil Cross Product =  5\n",
            "Hasil Dot Product = 10\n"
          ],
          "name": "stdout"
        }
      ]
    },
    {
      "cell_type": "code",
      "metadata": {
        "colab": {
          "base_uri": "https://localhost:8080/"
        },
        "id": "gZvY0R8AYWGl",
        "outputId": "b6bc5e6b-4c58-48dc-f674-3b6d5aacaf86"
      },
      "source": [
        "#7. Aljabar Linier\n",
        "matriksnbl\n",
        "print('-'*6)\n",
        "print('Inverse matriksnbl = ' , np.linalg.inv(matriksnbl))\n",
        "print('-'*6)\n",
        "print('Determinan matriksnbl =', np.linalg.det(matriksnbl))\n",
        "print('-'*6)\n",
        "print('Mengambil elemen diagonal matriksnbl = ', matriksnbl.diagonal())\n"
      ],
      "execution_count": null,
      "outputs": [
        {
          "output_type": "stream",
          "text": [
            "------\n",
            "Inverse matriksnbl =  [[-1.66666667  0.66666667]\n",
            " [ 1.33333333 -0.33333333]]\n",
            "------\n",
            "Determinan matriksnbl = -2.9999999999999996\n",
            "------\n",
            "Mengambil elemen diagonal matriksnbl =  [1 5]\n"
          ],
          "name": "stdout"
        }
      ]
    },
    {
      "cell_type": "code",
      "metadata": {
        "id": "5WbUTPlhavHj"
      },
      "source": [
        "#PCA dengan Numpy\n",
        "#Maaf mas saya belum mengerti algoritma nya\n"
      ],
      "execution_count": null,
      "outputs": []
    },
    {
      "cell_type": "markdown",
      "metadata": {
        "id": "MLB_tD5yeRxC"
      },
      "source": [
        "PCA adalah suatu metode untuk I biasa digunakan untuk mereduksi dimensi linier. Ide di balik PCA adalah untuk menemukan representasi data berdimensi lebih rendah yang menyimpan informasi sebanyak mungkin."
      ]
    }
  ]
}