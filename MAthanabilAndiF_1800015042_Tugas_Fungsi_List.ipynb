{
  "nbformat": 4,
  "nbformat_minor": 0,
  "metadata": {
    "colab": {
      "name": "MAthanabilAndiF_1800015042_Tugas_Fungsi_List.ipynb",
      "provenance": [],
      "collapsed_sections": [
        "rgulQrdNeZbm",
        "T9NgRZheetm6"
      ],
      "authorship_tag": "ABX9TyMhqMyKYDWgSjStT8+4SCq3",
      "include_colab_link": true
    },
    "kernelspec": {
      "name": "python3",
      "display_name": "Python 3"
    },
    "language_info": {
      "name": "python"
    }
  },
  "cells": [
    {
      "cell_type": "markdown",
      "metadata": {
        "id": "view-in-github",
        "colab_type": "text"
      },
      "source": [
        "<a href=\"https://colab.research.google.com/github/fawazdhianabil/Basic-Python-Programming-for-Data-Science/blob/main/MAthanabilAndiF_1800015042_Tugas_Fungsi_List.ipynb\" target=\"_parent\"><img src=\"https://colab.research.google.com/assets/colab-badge.svg\" alt=\"Open In Colab\"/></a>"
      ]
    },
    {
      "cell_type": "markdown",
      "metadata": {
        "id": "pZtTQGAeNp-m"
      },
      "source": [
        "Muhammad Athanabil Andi Fawazdhia\n",
        "1800015042"
      ]
    },
    {
      "cell_type": "markdown",
      "metadata": {
        "id": "uu6L07UHNw5X"
      },
      "source": [
        "Buatlah Sebuah Fungsi dengan Input [LIST] dan Output genap ganjil dalam bentuk [LIST]\n"
      ]
    },
    {
      "cell_type": "markdown",
      "metadata": {
        "id": "E4JEDWvgeTg-"
      },
      "source": [
        "### Cara Pertama Menggunakan Fungsi"
      ]
    },
    {
      "cell_type": "code",
      "metadata": {
        "colab": {
          "base_uri": "https://localhost:8080/"
        },
        "id": "K8Pfs1lp6w08",
        "outputId": "f0d72c38-b47f-4885-9c9c-f51f4a9008f6"
      },
      "source": [
        "ubah_tipe=[1,2,3,4,5,6,7,8,9,10]\n",
        "#ubah_tipe sebagai input berupa LIST\n",
        "def fungsi():\n",
        "#Mendefinisikan sebuah fungsi\n",
        "  for i in range(len(ubah_tipe)):\n",
        "  #Membuat perulangan untuk tiap elemen ubah_tipe\n",
        "    ubah_tipe[i] = int(ubah_tipe[i])\n",
        "    #Mengubah tiap elemen menjadi Integer\n",
        "  genap = []\n",
        "    #Membuat list kosong untuk genap\n",
        "  ganjil= []\n",
        "    #Membuat list kosong untuk ganjil\n",
        "  for j in ubah_tipe:\n",
        "  #Membuat perulangan tiap elemen pada ubah_tipe\n",
        "    if (j%2==0) :\n",
        "    #Membuat sebuah syarat dengan pembagian modulo\n",
        "      genap.append(j)\n",
        "      #Sebuah aksi jika syarat pertama terpenuhi\n",
        "    else :\n",
        "    #Sebuah syarat kedua jika syarat pertama tidak terpenuhi\n",
        "      ganjil.append(j)\n",
        "      #Sebuah aksi jika syarat kedua terpenuhi\n",
        "\n",
        "  print(\"------------------------------\")\n",
        "  for k in range(1):\n",
        "  #Membuat perulangan sebanyak 1x\n",
        "      print(\"Berikut List Genap  Anda =\",genap)\n",
        "      #Menampilkan hasil List Genap\n",
        "  for l in range(1):\n",
        "  #Membuat perulangan sebanyak 1x\n",
        "      print(\"Berikut List Ganjil Anda =\",ganjil)\n",
        "      #Menampilkan hasil List Ganjil\n",
        "  print(\"------------------------------\")\n",
        "fungsi()\n",
        "#Menggunakan fungsi yang sudah dibuat"
      ],
      "execution_count": null,
      "outputs": [
        {
          "output_type": "stream",
          "text": [
            "------------------------------\n",
            "Berikut List Genap  Anda = [2, 4, 6, 8, 10]\n",
            "Berikut List Ganjil Anda = [1, 3, 5, 7, 9]\n",
            "------------------------------\n"
          ],
          "name": "stdout"
        }
      ]
    },
    {
      "cell_type": "markdown",
      "metadata": {
        "id": "rgulQrdNeZbm"
      },
      "source": [
        "###Cara Kedua Menggunakan Input"
      ]
    },
    {
      "cell_type": "markdown",
      "metadata": {
        "id": "T9NgRZheetm6"
      },
      "source": [
        "####Karena input tidak bisa menerima LIST, maka saya mencoba mengkonversinya dari String menjadi LIST"
      ]
    },
    {
      "cell_type": "code",
      "metadata": {
        "colab": {
          "base_uri": "https://localhost:8080/"
        },
        "id": "swjtIYFJODk1",
        "outputId": "0050b046-1eae-4b01-d0bc-7aefc8728552"
      },
      "source": [
        "print(\"-----------------------------\")\n",
        "print(\"Harap Gunakan Spasi pada Input\")\n",
        "print(\"-----------------------------\")\n",
        "masukkan = input(\"Masukkan Bilangan Anda = \")\n",
        "#Untuk memasukan input sebagai string\n",
        "ubah_tipe = masukkan.split()\n",
        "#Memisahkan string atau merubah menjadi array/list\n",
        "print(\"Bilangan Anda Menjadi List =\", ubah_tipe)\n",
        "print(\"\\n\")\n",
        "print(\"Melakukan Pengecekan . . .\")\n",
        "print(\"\\n\")\n",
        "print(\"Mendapatkan Hasil Sebagai Berikut :\")\n",
        "for i in range(len(ubah_tipe)):\n",
        "#Mendefinisikan setiap elemen di ubah_tipe dengan i\n",
        "    ubah_tipe[i] = int(ubah_tipe[i])\n",
        "    #Merubah type ubah_tipe menjadi integer\n",
        "genap=[]\n",
        "#Membuat list kosong untuk bilangan Genap\n",
        "ganjil=[]\n",
        "#Membuat list kosong untuk bilangan Ganjil\n",
        "for j in ubah_tipe:\n",
        "#Mendefinisikan setiap elemen di ubah_tipe dengan j\n",
        "    if(j%2==0):\n",
        "    #Memberi syarat jika j habis dibagi 2\n",
        "        genap.append(j)\n",
        "        #Sebagai aksi jika syarat terpenuhi. . .\n",
        "        #Maka bilangan akan ditambah ke list genap\n",
        "    else:\n",
        "        ganjil.append(j)\n",
        "        #Sebagai aksi jika syarat tidak terpenuhi. . .\n",
        "        #Maka bilangan akan ditambah ke list ganjil\n",
        "print(\"Output List Genap  =\",genap)\n",
        "#Menampilkan list bilangan Genap \n",
        "print(\"Output List Ganjil =\",ganjil)\n",
        "#Menampilkan list bilangan Ganjil\n"
      ],
      "execution_count": null,
      "outputs": [
        {
          "output_type": "stream",
          "text": [
            "-----------------------------\n",
            "Harap Gunakan Spasi pada Input\n",
            "-----------------------------\n",
            "Masukkan Bilangan Anda = 1 2 3 4 5 6 7 8 9 10\n",
            "Bilangan Anda Menjadi List = ['1', '2', '3', '4', '5', '6', '7', '8', '9', '10']\n",
            "\n",
            "\n",
            "Melakukan Pengecekan . . .\n",
            "\n",
            "\n",
            "Mendapatkan Hasil Sebagai Berikut :\n",
            "Output List Genap  = [2, 4, 6, 8, 10]\n",
            "Output List Ganjil = [1, 3, 5, 7, 9]\n"
          ],
          "name": "stdout"
        }
      ]
    }
  ]
}