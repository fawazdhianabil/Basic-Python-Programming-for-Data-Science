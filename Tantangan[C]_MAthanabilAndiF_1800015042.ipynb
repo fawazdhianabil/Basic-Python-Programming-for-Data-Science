{
  "nbformat": 4,
  "nbformat_minor": 0,
  "metadata": {
    "colab": {
      "name": "Tantangan[C]_MAthanabilAndiF_1800015042.ipynb",
      "provenance": [],
      "collapsed_sections": [],
      "authorship_tag": "ABX9TyMvv+hkd42OzgTGYwZEsqyi",
      "include_colab_link": true
    },
    "kernelspec": {
      "name": "python3",
      "display_name": "Python 3"
    },
    "language_info": {
      "name": "python"
    }
  },
  "cells": [
    {
      "cell_type": "markdown",
      "metadata": {
        "id": "view-in-github",
        "colab_type": "text"
      },
      "source": [
        "<a href=\"https://colab.research.google.com/github/fawazdhianabil/Basic-Python-Programming-for-Data-Science/blob/main/Tantangan%5BC%5D_MAthanabilAndiF_1800015042.ipynb\" target=\"_parent\"><img src=\"https://colab.research.google.com/assets/colab-badge.svg\" alt=\"Open In Colab\"/></a>"
      ]
    },
    {
      "cell_type": "markdown",
      "metadata": {
        "id": "UZQVx1SqqDgR"
      },
      "source": [
        "**Muhammad Athanabil Andi Fawazdhia 1800015042**"
      ]
    },
    {
      "cell_type": "markdown",
      "metadata": {
        "id": "3Bjh8B4_56Ck"
      },
      "source": [
        "#Mini Projek C Tantangan"
      ]
    },
    {
      "cell_type": "markdown",
      "metadata": {
        "id": "S_6c2DvM6CGa"
      },
      "source": [
        "##Buatlah sebuah fungsi untuk membuat suatu dataframe dengan input\n",
        "1. Nilai Minimal\n",
        "2. Nilai Maksimal\n",
        "3. Rentang Kelas\n",
        "4. Jumlah Kelas\n",
        "\n",
        "Output dari fungsi tersebut adalah dataframe dengan kolom kolom:\n",
        "Nama Kelas, Batas Bawah, Batas Atas, Nilai Tengah."
      ]
    },
    {
      "cell_type": "code",
      "metadata": {
        "colab": {
          "base_uri": "https://localhost:8080/",
          "height": 422
        },
        "id": "n7JhOY7A533n",
        "outputId": "63f4d482-8073-4bda-db17-039c270b105c"
      },
      "source": [
        "import numpy as np\n",
        "#Mengimpor numpy sebagai np\n",
        "import pandas as pd\n",
        "#Mengimpor pandas sebagai np\n",
        "print(\"-------------------------------------\")\n",
        "print(\"Boleh juga input berupa desimal\")\n",
        "print(\"Input kelas tidak boleh desimal\")\n",
        "d = int(input('Masukkan Jumlah Kelas = '))\n",
        "#Mendefinisikan jumlah kelas sebagai n\n",
        "a = float(input('Masukkan Nilai Minimal = '))\n",
        "#Mendefinisikan nilai minimal sebagai a\n",
        "b = float(input('Masukkan Nilai Maksimal= '))\n",
        "#Mendefinisikan nilai maksimal sebagai b\n",
        "n = d-1\n",
        "#Mendefinisikan n untuk membantu indeks \n",
        "c = (b-a)/n\n",
        "#Mendifinisikan rumus rentang kelas\n",
        "print(\"-------------------------------------\")\n",
        "print(\"\\n Memproses. . . \\n\")\n",
        "print(\"Dengan Interval Kelas\", c)\n",
        "def Tantangan():\n",
        "#Mendefinisikan fungsi Tantangan\n",
        "  btb=list(np.arange(a,b+c,step=c))\n",
        "  #Membuat list dari batas baw1ah\n",
        "  bta=list(np.arange(a+c,b+2*c,step=c))\n",
        "  #Membuat list dari batas atas\n",
        "  kls = []\n",
        "  #Membuat list kosong untuk nama kelas\n",
        "  for i in range(1,n+2):\n",
        "  #Membuat perulangan untuk indeks\n",
        "    U='U'\n",
        "    #Mendefinisikan string U\n",
        "    kls.append((U+str(i)))\n",
        "    #Menambah string U dan indeks i kedalam list kls\n",
        "  rtrt = list((np.arange(a+c,b+2*c,step=c)+np.arange(a,b+c,step=c))/2)\n",
        "  #Mencari nilai rata tengah\n",
        "  dict1={\"Nama Kelas\":kls,\"Batas Bawah\":btb, \"Batas Atas\":bta, \"Nilai Tengah\":rtrt}\n",
        "  #Membentuk dictionary\n",
        "  df = pd.DataFrame(dict1)\n",
        "  #Membentuk data frame dari dictionary\n",
        "  return df\n",
        "  #Mengeluarkan data frame\n",
        "Tantangan()\n",
        "#Memanggil fungsi yang sudah dibuat"
      ],
      "execution_count": null,
      "outputs": [
        {
          "output_type": "stream",
          "text": [
            "-------------------------------------\n",
            "Boleh juga input berupa desimal\n",
            "Input kelas tidak boleh desimal\n",
            "Masukkan Jumlah Kelas = 6\n",
            "Masukkan Nilai Minimal = 0.6\n",
            "Masukkan Nilai Maksimal= 2.26665\n",
            "-------------------------------------\n",
            "\n",
            " Memproses. . . \n",
            "\n",
            "Dengan Interval Kelas 0.33332999999999996\n"
          ],
          "name": "stdout"
        },
        {
          "output_type": "execute_result",
          "data": {
            "text/html": [
              "<div>\n",
              "<style scoped>\n",
              "    .dataframe tbody tr th:only-of-type {\n",
              "        vertical-align: middle;\n",
              "    }\n",
              "\n",
              "    .dataframe tbody tr th {\n",
              "        vertical-align: top;\n",
              "    }\n",
              "\n",
              "    .dataframe thead th {\n",
              "        text-align: right;\n",
              "    }\n",
              "</style>\n",
              "<table border=\"1\" class=\"dataframe\">\n",
              "  <thead>\n",
              "    <tr style=\"text-align: right;\">\n",
              "      <th></th>\n",
              "      <th>Nama Kelas</th>\n",
              "      <th>Batas Bawah</th>\n",
              "      <th>Batas Atas</th>\n",
              "      <th>Nilai Tengah</th>\n",
              "    </tr>\n",
              "  </thead>\n",
              "  <tbody>\n",
              "    <tr>\n",
              "      <th>0</th>\n",
              "      <td>U1</td>\n",
              "      <td>0.60000</td>\n",
              "      <td>0.93333</td>\n",
              "      <td>0.766665</td>\n",
              "    </tr>\n",
              "    <tr>\n",
              "      <th>1</th>\n",
              "      <td>U2</td>\n",
              "      <td>0.93333</td>\n",
              "      <td>1.26666</td>\n",
              "      <td>1.099995</td>\n",
              "    </tr>\n",
              "    <tr>\n",
              "      <th>2</th>\n",
              "      <td>U3</td>\n",
              "      <td>1.26666</td>\n",
              "      <td>1.59999</td>\n",
              "      <td>1.433325</td>\n",
              "    </tr>\n",
              "    <tr>\n",
              "      <th>3</th>\n",
              "      <td>U4</td>\n",
              "      <td>1.59999</td>\n",
              "      <td>1.93332</td>\n",
              "      <td>1.766655</td>\n",
              "    </tr>\n",
              "    <tr>\n",
              "      <th>4</th>\n",
              "      <td>U5</td>\n",
              "      <td>1.93332</td>\n",
              "      <td>2.26665</td>\n",
              "      <td>2.099985</td>\n",
              "    </tr>\n",
              "    <tr>\n",
              "      <th>5</th>\n",
              "      <td>U6</td>\n",
              "      <td>2.26665</td>\n",
              "      <td>2.59998</td>\n",
              "      <td>2.433315</td>\n",
              "    </tr>\n",
              "  </tbody>\n",
              "</table>\n",
              "</div>"
            ],
            "text/plain": [
              "  Nama Kelas  Batas Bawah  Batas Atas  Nilai Tengah\n",
              "0         U1      0.60000     0.93333      0.766665\n",
              "1         U2      0.93333     1.26666      1.099995\n",
              "2         U3      1.26666     1.59999      1.433325\n",
              "3         U4      1.59999     1.93332      1.766655\n",
              "4         U5      1.93332     2.26665      2.099985\n",
              "5         U6      2.26665     2.59998      2.433315"
            ]
          },
          "metadata": {
            "tags": []
          },
          "execution_count": 22
        }
      ]
    }
  ]
}