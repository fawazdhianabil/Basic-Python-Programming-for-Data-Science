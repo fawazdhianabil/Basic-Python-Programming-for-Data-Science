{
  "nbformat": 4,
  "nbformat_minor": 0,
  "metadata": {
    "colab": {
      "name": "MAthanabilAndiF_1800015042_List_dan_Dictionary.ipynb",
      "provenance": [],
      "include_colab_link": true
    },
    "kernelspec": {
      "name": "python3",
      "display_name": "Python 3"
    },
    "language_info": {
      "name": "python"
    }
  },
  "cells": [
    {
      "cell_type": "markdown",
      "metadata": {
        "id": "view-in-github",
        "colab_type": "text"
      },
      "source": [
        "<a href=\"https://colab.research.google.com/github/fawazdhianabil/Basic-Python-Programming-for-Data-Science/blob/main/MAthanabilAndiF_1800015042_List_dan_Dictionary.ipynb\" target=\"_parent\"><img src=\"https://colab.research.google.com/assets/colab-badge.svg\" alt=\"Open In Colab\"/></a>"
      ]
    },
    {
      "cell_type": "markdown",
      "metadata": {
        "id": "kMd1Q9NB1BqH"
      },
      "source": [
        "1. Buatlah sebuah list dengan elemen bilangan kelipatan 5 dengan panjang elemen sejumlah 100"
      ]
    },
    {
      "cell_type": "code",
      "metadata": {
        "colab": {
          "base_uri": "https://localhost:8080/"
        },
        "id": "inYb_udnCpTY",
        "outputId": "76401da7-8a1c-4b40-905e-13504f8010f8"
      },
      "source": [
        "# Kode nya sebagai berikut\n",
        "nbl = [] #Membuat list Kosong dulu\n",
        " \n",
        "for a in range(1,101): #Membuat range dari 1 sampai 100\n",
        "    nbl.append(a*5) #Menambahkan list kosong dgn kelipatan 5 dari range*5\n",
        "     \n",
        "print(nbl) #Menampilkan hasilnya\n",
        "print(\"Banyak Elemen Pada A\",\"=\", len(nbl)) #Cek banyak elemen yang ada pada nbl"
      ],
      "execution_count": null,
      "outputs": [
        {
          "output_type": "stream",
          "text": [
            "[5, 10, 15, 20, 25, 30, 35, 40, 45, 50, 55, 60, 65, 70, 75, 80, 85, 90, 95, 100, 105, 110, 115, 120, 125, 130, 135, 140, 145, 150, 155, 160, 165, 170, 175, 180, 185, 190, 195, 200, 205, 210, 215, 220, 225, 230, 235, 240, 245, 250, 255, 260, 265, 270, 275, 280, 285, 290, 295, 300, 305, 310, 315, 320, 325, 330, 335, 340, 345, 350, 355, 360, 365, 370, 375, 380, 385, 390, 395, 400, 405, 410, 415, 420, 425, 430, 435, 440, 445, 450, 455, 460, 465, 470, 475, 480, 485, 490, 495, 500]\n",
            "Banyak Elemen Pada A = 100\n"
          ],
          "name": "stdout"
        }
      ]
    },
    {
      "cell_type": "markdown",
      "metadata": {
        "id": "OHyMAfrd1SL3"
      },
      "source": [
        "2. Buatlah sebuah dictionary dengan jumlah elemen 100 dan lakukanlah beberapa modifikasi(minimal 3) di dalamnya."
      ]
    },
    {
      "cell_type": "code",
      "metadata": {
        "id": "b40H0S8J1lD9",
        "colab": {
          "base_uri": "https://localhost:8080/"
        },
        "outputId": "93f72f24-6a07-4e39-fa5b-f997dfd761ac"
      },
      "source": [
        "#Tuliskan kodemu di bawah ini:\n",
        "\n",
        "#Membuat Dictionary\n",
        "bc =[]\n",
        "for a in range(1,101):\n",
        "  bc.append((a*5))\n",
        "dict0 = {'a0':bc[0],'b0':bc[1],'c0':bc[2],'d0':bc[3],'e0':bc[4],'f0':bc[5],'g0':bc[6],'h0':bc[7],'i0':bc[8],'j0':bc[9],\n",
        "'a1':bc[10],'b1':bc[11],'c1':bc[12],'d1':bc[13],'e1':bc[14],'f1':bc[15],'g1':bc[16],'h1':bc[17],'i1':bc[18],'j1':bc[19],\n",
        "'a2':bc[20],'b2':bc[21],'c2':bc[22],'d2':bc[23],'e2':bc[24],'f2':bc[25],'g2':bc[26],'h2':bc[27],'i2':bc[28],'j2':bc[29],\n",
        "'a3':bc[20],'b3':bc[31],'c3':bc[32],'d3':bc[33],'e3':bc[34],'f3':bc[35],'g3':bc[36],'h3':bc[37],'i3':bc[38],'j3':bc[39],\n",
        "'a4':bc[30],'b4':bc[41],'c4':bc[42],'d4':bc[43],'e4':bc[44],'f4':bc[45],'g4':bc[46],'h4':bc[47],'i4':bc[48],'j4':bc[49],\n",
        "'a5':bc[40],'b5':bc[51],'c5':bc[52],'d5':bc[53],'e5':bc[54],'f5':bc[55],'g5':bc[56],'h5':bc[57],'i5':bc[58],'j5':bc[59],\n",
        "'a6':bc[60],'b6':bc[61],'c6':bc[62],'d6':bc[63],'e6':bc[64],'f6':bc[65],'g6':bc[66],'h6':bc[67],'i6':bc[68],'j6':bc[69],\n",
        "'a7':bc[70],'b7':bc[71],'c7':bc[72],'d7':bc[73],'e7':bc[74],'f7':bc[75],'g7':bc[76],'h7':bc[77],'i7':bc[78],'j7':bc[79],\n",
        "'a8':bc[80],'b8':bc[81],'c8':bc[82],'d8':bc[83],'e8':bc[84],'f8':bc[85],'g8':bc[86],'h8':bc[87],'i8':bc[88],'j8':bc[89],\n",
        "'a9':bc[90],'b9':bc[91],'c9':bc[92],'d9':bc[93],'e9':bc[94],'f9':bc[95],'g9':bc[96],'h9':bc[97],'i9':bc[98],'j9':bc[99]}\n",
        "print(dict0)\n",
        "print(\"Banyak elemen :\", len(dict0))"
      ],
      "execution_count": null,
      "outputs": [
        {
          "output_type": "stream",
          "text": [
            "{'a0': 5, 'b0': 10, 'c0': 15, 'd0': 20, 'e0': 25, 'f0': 30, 'g0': 35, 'h0': 40, 'i0': 45, 'j0': 50, 'a1': 55, 'b1': 60, 'c1': 65, 'd1': 70, 'e1': 75, 'f1': 80, 'g1': 85, 'h1': 90, 'i1': 95, 'j1': 100, 'a2': 105, 'b2': 110, 'c2': 115, 'd2': 120, 'e2': 125, 'f2': 130, 'g2': 135, 'h2': 140, 'i2': 145, 'j2': 150, 'a3': 105, 'b3': 160, 'c3': 165, 'd3': 170, 'e3': 175, 'f3': 180, 'g3': 185, 'h3': 190, 'i3': 195, 'j3': 200, 'a4': 155, 'b4': 210, 'c4': 215, 'd4': 220, 'e4': 225, 'f4': 230, 'g4': 235, 'h4': 240, 'i4': 245, 'j4': 250, 'a5': 205, 'b5': 260, 'c5': 265, 'd5': 270, 'e5': 275, 'f5': 280, 'g5': 285, 'h5': 290, 'i5': 295, 'j5': 300, 'a6': 305, 'b6': 310, 'c6': 315, 'd6': 320, 'e6': 325, 'f6': 330, 'g6': 335, 'h6': 340, 'i6': 345, 'j6': 350, 'a7': 355, 'b7': 360, 'c7': 365, 'd7': 370, 'e7': 375, 'f7': 380, 'g7': 385, 'h7': 390, 'i7': 395, 'j7': 400, 'a8': 405, 'b8': 410, 'c8': 415, 'd8': 420, 'e8': 425, 'f8': 430, 'g8': 435, 'h8': 440, 'i8': 445, 'j8': 450, 'a9': 455, 'b9': 460, 'c9': 465, 'd9': 470, 'e9': 475, 'f9': 480, 'g9': 485, 'h9': 490, 'i9': 495, 'j9': 500}\n",
            "Banyak elemen : 100\n"
          ],
          "name": "stdout"
        }
      ]
    },
    {
      "cell_type": "code",
      "metadata": {
        "colab": {
          "base_uri": "https://localhost:8080/"
        },
        "id": "Amf7KdgNiDz0",
        "outputId": "553a5099-9fb2-440f-e0a0-c6ee55f23049"
      },
      "source": [
        "# Modifikasi 1\n",
        "md1 = dict0\n",
        "print(md1)\n",
        "print(\"Banyak elemen :\", len(md1))\n",
        "import random\n",
        "keyrandom, valuerandom = random.choice(list(md1.items()))\n",
        "print(\"key acak :\", keyrandom, \"dan\", valuerandom, \"adalah value dari\", keyrandom)"
      ],
      "execution_count": null,
      "outputs": [
        {
          "output_type": "stream",
          "text": [
            "{'a0': 5, 'b0': 10, 'c0': 15, 'd0': 20, 'e0': 25, 'f0': 30, 'g0': 35, 'h0': 40, 'i0': 45, 'j0': 50, 'a1': 55, 'b1': 60, 'c1': 65, 'd1': 70, 'e1': 75, 'f1': 80, 'g1': 85, 'h1': 90, 'i1': 95, 'j1': 100, 'a2': 105, 'b2': 110, 'c2': 115, 'd2': 120, 'e2': 125, 'f2': 130, 'g2': 135, 'h2': 140, 'i2': 145, 'j2': 150, 'a3': 105, 'b3': 160, 'c3': 165, 'd3': 170, 'e3': 175, 'f3': 180, 'g3': 185, 'h3': 190, 'i3': 195, 'j3': 200, 'a4': 155, 'b4': 210, 'c4': 215, 'd4': 220, 'e4': 225, 'f4': 230, 'g4': 235, 'h4': 240, 'i4': 245, 'j4': 250, 'a5': 205, 'b5': 260, 'c5': 265, 'd5': 270, 'e5': 275, 'f5': 280, 'g5': 285, 'h5': 290, 'i5': 295, 'j5': 300, 'a6': 305, 'b6': 310, 'c6': 315, 'd6': 320, 'e6': 325, 'f6': 330, 'g6': 335, 'h6': 340, 'i6': 345, 'j6': 350, 'a7': 355, 'b7': 360, 'c7': 365, 'd7': 370, 'e7': 375, 'f7': 380, 'g7': 385, 'h7': 390, 'i7': 395, 'j7': 400, 'a8': 405, 'b8': 410, 'c8': 415, 'd8': 420, 'e8': 425, 'f8': 430, 'g8': 435, 'h8': 440, 'i8': 445, 'j8': 450, 'a9': 455, 'b9': 460, 'c9': 465, 'd9': 470, 'e9': 475, 'f9': 480, 'g9': 485, 'h9': 490, 'i9': 495, 'j9': 500}\n",
            "Banyak elemen : 100\n",
            "key acak : g2 dan 135 adalah value dari g2\n"
          ],
          "name": "stdout"
        }
      ]
    },
    {
      "cell_type": "code",
      "metadata": {
        "colab": {
          "base_uri": "https://localhost:8080/"
        },
        "id": "xDtUnf8Ai17a",
        "outputId": "1a0c1ea5-d91d-4941-a1fd-52e9a1680f64"
      },
      "source": [
        "# Modifikasi 2\n",
        "md2 = dict0\n",
        "print(\"Banyak elemen :\", len(md2))\n",
        "# Memanfaatkan dictionary untuk membuat NIM secara acak \n",
        "import random\n",
        "a = random.choice(list(md2.values()))\n",
        "print('180001504',\"-\",a)\n",
        "print('180001504',\"-\",a+1)\n",
        "print('180001504',\"-\",a+2)"
      ],
      "execution_count": null,
      "outputs": [
        {
          "output_type": "stream",
          "text": [
            "Banyak elemen : 100\n",
            "180001504 - 85\n",
            "180001504 - 86\n",
            "180001504 - 87\n"
          ],
          "name": "stdout"
        }
      ]
    },
    {
      "cell_type": "code",
      "metadata": {
        "colab": {
          "base_uri": "https://localhost:8080/"
        },
        "id": "GqhwcCAZi2pK",
        "outputId": "04a829c9-696f-46e3-be79-542dd5e35a3e"
      },
      "source": [
        "# Modifikasi 3\n",
        "md3= dict0\n",
        "for a, b in md3.items():\n",
        "  print(a,b)"
      ],
      "execution_count": null,
      "outputs": [
        {
          "output_type": "stream",
          "text": [
            "a0 5\n",
            "b0 10\n",
            "c0 15\n",
            "d0 20\n",
            "e0 25\n",
            "f0 30\n",
            "g0 35\n",
            "h0 40\n",
            "i0 45\n",
            "j0 50\n",
            "a1 55\n",
            "b1 60\n",
            "c1 65\n",
            "d1 70\n",
            "e1 75\n",
            "f1 80\n",
            "g1 85\n",
            "h1 90\n",
            "i1 95\n",
            "j1 100\n",
            "a2 105\n",
            "b2 110\n",
            "c2 115\n",
            "d2 120\n",
            "e2 125\n",
            "f2 130\n",
            "g2 135\n",
            "h2 140\n",
            "i2 145\n",
            "j2 150\n",
            "a3 105\n",
            "b3 160\n",
            "c3 165\n",
            "d3 170\n",
            "e3 175\n",
            "f3 180\n",
            "g3 185\n",
            "h3 190\n",
            "i3 195\n",
            "j3 200\n",
            "a4 155\n",
            "b4 210\n",
            "c4 215\n",
            "d4 220\n",
            "e4 225\n",
            "f4 230\n",
            "g4 235\n",
            "h4 240\n",
            "i4 245\n",
            "j4 250\n",
            "a5 205\n",
            "b5 260\n",
            "c5 265\n",
            "d5 270\n",
            "e5 275\n",
            "f5 280\n",
            "g5 285\n",
            "h5 290\n",
            "i5 295\n",
            "j5 300\n",
            "a6 305\n",
            "b6 310\n",
            "c6 315\n",
            "d6 320\n",
            "e6 325\n",
            "f6 330\n",
            "g6 335\n",
            "h6 340\n",
            "i6 345\n",
            "j6 350\n",
            "a7 355\n",
            "b7 360\n",
            "c7 365\n",
            "d7 370\n",
            "e7 375\n",
            "f7 380\n",
            "g7 385\n",
            "h7 390\n",
            "i7 395\n",
            "j7 400\n",
            "a8 405\n",
            "b8 410\n",
            "c8 415\n",
            "d8 420\n",
            "e8 425\n",
            "f8 430\n",
            "g8 435\n",
            "h8 440\n",
            "i8 445\n",
            "j8 450\n",
            "a9 455\n",
            "b9 460\n",
            "c9 465\n",
            "d9 470\n",
            "e9 475\n",
            "f9 480\n",
            "g9 485\n",
            "h9 490\n",
            "i9 495\n",
            "j9 500\n"
          ],
          "name": "stdout"
        }
      ]
    }
  ]
}