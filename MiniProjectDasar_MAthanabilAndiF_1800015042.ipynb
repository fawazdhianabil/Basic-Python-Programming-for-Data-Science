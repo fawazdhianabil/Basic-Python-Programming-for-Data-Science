{
  "nbformat": 4,
  "nbformat_minor": 0,
  "metadata": {
    "colab": {
      "name": "MiniProjectDasar_MAthanabilAndiF_1800015042.ipynb",
      "provenance": [],
      "collapsed_sections": [
        "Dlped-eKEqUB",
        "VFx0sPheFB-T",
        "hnF8rYLBH3FQ",
        "76SZWYMpek4s"
      ],
      "include_colab_link": true
    },
    "kernelspec": {
      "name": "python3",
      "display_name": "Python 3"
    },
    "language_info": {
      "name": "python"
    }
  },
  "cells": [
    {
      "cell_type": "markdown",
      "metadata": {
        "id": "view-in-github",
        "colab_type": "text"
      },
      "source": [
        "<a href=\"https://colab.research.google.com/github/fawazdhianabil/Basic-Python-Programming-for-Data-Science/blob/main/MiniProjectDasar_MAthanabilAndiF_1800015042.ipynb\" target=\"_parent\"><img src=\"https://colab.research.google.com/assets/colab-badge.svg\" alt=\"Open In Colab\"/></a>"
      ]
    },
    {
      "cell_type": "markdown",
      "metadata": {
        "id": "Dlped-eKEqUB"
      },
      "source": [
        "\n",
        "\n",
        "#Mini Project A\n",
        "Muhammmad Athanabil Andi Fawazdhia\n",
        "1800015042\n",
        "\n"
      ]
    },
    {
      "cell_type": "markdown",
      "metadata": {
        "id": "VFx0sPheFB-T"
      },
      "source": [
        "### Fungsi \"Pos_Neg_Nol\""
      ]
    },
    {
      "cell_type": "markdown",
      "metadata": {
        "id": "NavNpAmVFOjk"
      },
      "source": [
        "Buatlah sebuah fungsi \"Pos_Neg_Nol\" dengan ketentuan:\n",
        "1. Input berupa data numerik **Tunggal**\n",
        "2. Output sebuah teks/string yang menyatakan \"Positif\", \"Negatif\", \"Nol\""
      ]
    },
    {
      "cell_type": "code",
      "metadata": {
        "colab": {
          "base_uri": "https://localhost:8080/"
        },
        "id": "hYdiwpGNEoZB",
        "outputId": "bee32169-ec8c-480e-d37f-a4e45366f579"
      },
      "source": [
        "print(\"---------------------------------------------------\")\n",
        "numt = int(input(\"Masukkan Bilangan Tunggal = \")) \n",
        "#Mendefinisikan sebuah input dengan type integer\n",
        "def Pos_Neg_Nol():\n",
        "#Mendefinisikan sebuah fungsi Pos_Neg_Nol\n",
        "  print(\"\\n\")\n",
        "  print(\"Memproses. . .\")\n",
        "  print(\"\\n\")\n",
        "  if   (numt>0):\n",
        "  #Menentukan syarat pertama\n",
        "    print(numt,\"Merupakan Bilangan Positif\")\n",
        "    #Sebuah aksi jika syarat pertama terpenuhi\n",
        "  elif (numt<0):\n",
        "  #Menentukan syarat kedua, jika syarat pertama tidak terpenuhi\n",
        "    print(numt,\"Merupakan Bilangan Ganjil\")\n",
        "    #Sebuah aksi jika syarat ketdua terpenuhi\n",
        "  else:\n",
        "  #Menentukan syarat ketiga, jika syarat kedua tidak terpenuhi\n",
        "    print(numt,\"Merupakan Bilangan Nol\")\n",
        "    #Sebuah aksi jika syarat ketiga terpenuhi\n",
        "\n",
        "Pos_Neg_Nol()\n",
        "#Menggunakan fungsi yang sudah dibuat\n",
        "print(\"---------------------------------------------------\")"
      ],
      "execution_count": null,
      "outputs": [
        {
          "output_type": "stream",
          "text": [
            "---------------------------------------------------\n",
            "Masukkan Bilangan Tunggal = -100\n",
            "\n",
            "\n",
            "Memproses. . .\n",
            "\n",
            "\n",
            "-100 Merupakan Bilangan Ganjil\n",
            "---------------------------------------------------\n"
          ],
          "name": "stdout"
        }
      ]
    },
    {
      "cell_type": "markdown",
      "metadata": {
        "id": "hnF8rYLBH3FQ"
      },
      "source": [
        "### Fungsi \"Mahal_Diskon\""
      ]
    },
    {
      "cell_type": "markdown",
      "metadata": {
        "id": "bYA4sGyKIxqD"
      },
      "source": [
        "Buatlah sebuah fungsi \"Mahal_Diskon\" dengan ketentuan:\n",
        "1. Input berupa data harga produk dengan tipe data numerik **Tunggal**\n",
        "2. Kategori Input adalah \"Murah\" dan \"Mahal\", kemudian diskon ada 3 kategori \"10 %\", \"20 %\", dan \"\"40%\"\n",
        "3. Output Pertama sebuah teks/string yang menyatakan \"Mahal\" atau \"Murah\" dan Keterangan \"Kamu Dapat Diskon ...\"\n",
        "4. Output Kedua adalah harga yang perlu dibayarkan"
      ]
    },
    {
      "cell_type": "code",
      "metadata": {
        "colab": {
          "base_uri": "https://localhost:8080/"
        },
        "id": "LzfC-goDIFCd",
        "outputId": "449b93e3-bd93-4592-eb19-edd5b3219494"
      },
      "source": [
        "print(\"-------------------------------------------------\")\n",
        "print(\"Kamu Tidak Mendapatkan diskon jika dibawah 1 Juta\")\n",
        "print(\"-------------------------------------------------\")\n",
        "print(\"Kamu Akan Mendapatkan Diskon Jika :\")\n",
        "print(\"Lebih Besar atau Sama dengan 1 Juta\")\n",
        "print(\"Lebih Besar atau Sama dengan 2 Juta\")\n",
        "print(\"Lebih Besar atau Sama dengan 3 Juta\")\n",
        "print(\"-------------------------------------------------\")\n",
        "hrga    = float(input(\"Masukkan Harga = \"))\n",
        "#Mendefinisikan sebuah input untuk Harga\n",
        "print(\"Harga Awal Anda adalah = \", hrga)\n",
        "Mahal_1 = float(1000000)\n",
        "#Mendefinisikan batas pertama\n",
        "Mahal_2 = float(2000000)\n",
        "#Mendefinisikan batas kedua\n",
        "Mahal_3 = float(3000000)\n",
        "#Mendefinisikan batas ketiga\n",
        "def Mahal_Diskon():\n",
        "#Mendefinisikan sebuah fungsi\n",
        "  if (hrga>0):\n",
        "  #Sebagai kondisi pertama kali untuk nested if\n",
        "  #Jika memenuhi akan di proses ke if selanjutnya  \n",
        "    print(\"\\n\")\n",
        "    print(\"Di Cek Terlebih Dahulu Ya...\")\n",
        "    if (hrga<Mahal_1):\n",
        "    #Sebagai syarat kedua setelah yang pertama terpenuhi\n",
        "      print(\"\\n------------Murah------------\\n\")\n",
        "      print(\"Kamu Tidak Mendapatkan Diskon\")\n",
        "      #Beberapa aksi diatas dijalankan jika syarat kedua terpenuhi\n",
        "    elif (hrga >= Mahal_1) & (hrga < Mahal_2):\n",
        "    #Sebagai syarat ketiga setelah syarat kedua tidak terpenuhi\n",
        "      print(\"\\n------------Mahal------------\\n\")\n",
        "      print(\"Kamu Dapat Diskon Kategrori 1, yaitu 10%\")\n",
        "      dskn = hrga - (hrga*0.1)\n",
        "      #Untuk mencari harga setelah diskon\n",
        "      print(\"Harga Setelah Diskon =\", float(dskn))\n",
        "      #Beberapa aksi diatas dijalankan jika syarat ketiga terpenuhi\n",
        "    elif (hrga >= Mahal_2) & (hrga < Mahal_3):\n",
        "    #Sebagai syarat keempat jika syarat ketiga tidak terpenuhi\n",
        "      print(\"\\n------------Mahal------------\\n\")\n",
        "      print(\"Kamu Dapat Diskon Kategori 2, yaitu 20%\")\n",
        "      dskn_1 = hrga - (hrga*0.2)\n",
        "      #Untuk mencari harga setelah diskon\n",
        "      print(\"Harga setelah diskon\", float(dskn_1))\n",
        "      #Beberapa aksi diatas dijalankan jika syarat keempat terpenuhi\n",
        "    elif (hrga >= Mahal_3):\n",
        "    #Sebagai syarat kelima jika syarat keempat tidak terpenuhi\n",
        "      print(\"\\n------------Mahal------------\\n\")\n",
        "      print(\"Kamu Dapat Diskon Kategori 3, yaitu 40%\")\n",
        "      dskn_2= hrga - (hrga*0.4)\n",
        "      #Untuk mencari harga setelah diskon\n",
        "      print(\"Harga setelah diskon\", float(dskn_2))\n",
        "      #Beberapa aksi diatas dijalankan jika syarat kelimat terpenuhi\n",
        "  else:\n",
        "  #Sebuah syarat atau kondisi jika 5 kondisi diatas tidak terpenuhi sama sekali\n",
        "    print(\"Yeee Masukin yang Bener Harganya!\")\n",
        "    #Sebuah aksi jika 5 kondisi tidak terpenuhi\n",
        "\n",
        "Mahal_Diskon()\n",
        "#Menggunakan fungsi yang sudah dibuat"
      ],
      "execution_count": null,
      "outputs": [
        {
          "output_type": "stream",
          "text": [
            "-------------------------------------------------\n",
            "Kamu Tidak Mendapatkan diskon jika dibawah 1 Juta\n",
            "-------------------------------------------------\n",
            "Kamu Akan Mendapatkan Diskon Jika :\n",
            "Lebih Besar atau Sama dengan 1 Juta\n",
            "Lebih Besar atau Sama dengan 2 Juta\n",
            "Lebih Besar atau Sama dengan 3 Juta\n",
            "-------------------------------------------------\n",
            "Masukkan Harga = 1000000\n",
            "Harga Awal Anda adalah =  1000000.0\n",
            "\n",
            "\n",
            "Di Cek Terlebih Dahulu Ya...\n",
            "\n",
            "------------Mahal------------\n",
            "\n",
            "Kamu Dapat Diskon Kategrori 1, yaitu 10%\n",
            "Harga Setelah Diskon = 900000.0\n"
          ],
          "name": "stdout"
        }
      ]
    },
    {
      "cell_type": "markdown",
      "metadata": {
        "id": "76SZWYMpek4s"
      },
      "source": [
        "# Mini Project B\n",
        "Muhammad Athanabil Andi Fawazdhia 1800015042"
      ]
    },
    {
      "cell_type": "markdown",
      "metadata": {
        "id": "i3ZKro4Aer0S"
      },
      "source": [
        "Buatlah sebuah fungsi dengan input adalah nilai awal a dan b:\n",
        "\n",
        "Input: a = 1, b=2\n",
        "\n",
        "a & b: Bilangan antara -9999:9999\n",
        "\n",
        "Output: DataFrame dengan tampilan sebagai berikut:\n",
        "\n",
        "|Bilangan| Genap/Ganjil | Pos/Neg/Nol | Satuan/Ratusan/Ribuan |\n",
        "|----|---|---| ----|\n",
        "|1   |Ganjil|Positif| Satuan|\n",
        "|-11  |Ganjil|Negatif| Puluhan |\n",
        "|112 |Genap|Positif| Ratusan|\n",
        "\n",
        "\n",
        "\n"
      ]
    },
    {
      "cell_type": "code",
      "metadata": {
        "colab": {
          "base_uri": "https://localhost:8080/",
          "height": 521
        },
        "id": "LaiFr6P-dv2S",
        "outputId": "7122803b-31bf-42a6-864f-e6b77b745c0d"
      },
      "source": [
        "import numpy as np\n",
        "#Mengimport numpy sebagai np\n",
        "import pandas as pd\n",
        "#Mengimport pandas sebagai pd\n",
        "print(\"------------------------------------\")\n",
        "print(\"Intervalnya adalah -9999 Sampai 9999\")\n",
        "print(\"Jika Salah Diwajibkan Input Kembali\")\n",
        "print(\"------------------------------------\")\n",
        "a=int(input(\"Masukkan Nilai Awal a = \"))\n",
        "#Membuat sebuah input nilai awal\n",
        "b=int(input(\"Masukkan Nilai Akhir b = \"))\n",
        "#Membuat sebuah input nilai akhir\n",
        "def fgsdta():\n",
        "#Mendefinisikan sebuah fungsi data\n",
        "  if (a>-9999) & (b<9999):\n",
        "  #Membuat syarat untuk input\n",
        "  #Jika syarat terpenuhi makan akan mengeksekusi dibawah ini\n",
        "    ubah_tipe= np.arange(a,b+1,step=1)\n",
        "    #Jika terpenuhi maka akan dibuat sebuah array\n",
        "    for i in range(len(ubah_tipe)):\n",
        "    #Membuat perulangan pada ubah_tipe\n",
        "      ubah_tipe[i] = int(ubah_tipe[i])\n",
        "      #Mengubah tiap elemen menjadi Integer\n",
        "      ganjilgenap = []\n",
        "      #Membuat sebuah list kosong\n",
        "      for j in ubah_tipe:\n",
        "      #Membuat sebuah perulangan pada ubah_tipe\n",
        "        if (j%2==0) :\n",
        "        #Membuat sebuah syarat untuk mod 2\n",
        "          ganjilgenap.append(\"genap\")\n",
        "          #Menambahkan Genap ke ganjilgenap jika syarat pertama terpenuhi\n",
        "        else :\n",
        "        #Membuat syarat kedua jika syarat pertama tidak terpenuhi\n",
        "          ganjilgenap.append(\"ganjil\")\n",
        "          #Menambahkan Ganjil ke ganjilgenap jika syarat kedua terpenuhi\n",
        "      posneg = []\n",
        "      #Membuat sebuah list kosong\n",
        "      for k in ubah_tipe:\n",
        "      #Membuat perulangan pada ubah_tipe\n",
        "        if (k>0):\n",
        "        #Membuat syarat pertama untuk bilangan positif\n",
        "          posneg.append(\"positif\")\n",
        "          #Menambahkan string positif ke posneg jika syarat pertama terpenuhi\n",
        "        elif (k<0):\n",
        "        #Membuat syarat kedua untuk bilangan negatif\n",
        "          posneg.append(\"negatif\")\n",
        "          #Menambahkan string negatif ke posneg jika syarat kedua terpenuhi\n",
        "        else:\n",
        "        #Membuat syarat ketiga untuk bilangan nol\n",
        "          posneg.append('nol')\n",
        "          #Menambahkan string nol ke posneg jika syarat ketiga terpenuhi\n",
        "      satpulras = []\n",
        "      #Membuat list kosong\n",
        "      for l in ubah_tipe:\n",
        "      #Membuat perulangan pada ubah_tipe\n",
        "        if (l>=1) & (l<=9):\n",
        "        #Membuat syarat pertama\n",
        "          satpulras.append(\"Satuan\")\n",
        "          #Menambahkan Satuan jika syarat pertama terpenuhi\n",
        "        elif (l>=11) & (l<=99):\n",
        "        #Membuat syarat kedua jika syarat pertama tidak terpenuhi\n",
        "          satpulras.append(\"Puluhan\")\n",
        "          #Menambahkan Puluhan jika syarat kedua terpenuhi\n",
        "        elif (l>=100) & (l<=999):\n",
        "        #Membuat syarat ketiga jika syarat kedua tidak terpenuhi\n",
        "          satpulras.append(\"Ratusan\")\n",
        "          #Menambahkan Ratusan jika syarat ketiga terpenuhi\n",
        "        elif (l>=1000) & (l<9999) :\n",
        "        #Membuat syarat keempat jika syarat ketiga tidak terpenuhi\n",
        "          satpulras.append(\"Ribuan\")\n",
        "          #Menambahkan Ribuan jika syarat keempat terpenuhi\n",
        "        elif (l<=-1) & (l>=-9):\n",
        "        #Membuat syarat kelima jika syarat keempat tidak terpenuhi\n",
        "          satpulras.append(\"Satuan\")\n",
        "          #Menambahkan Satuan jika syarat kelima terpenuhi\n",
        "        elif (l<=-11) & (l>=-99):\n",
        "        #Membuat syarat keenam jika syarat kelima tidak terpenuhi\n",
        "          satpulras.append(\"Puluhan\")\n",
        "          #Menambahkan Puluhan jika syarat keenam terpenuhi\n",
        "        elif (l<=-100) & (l>=-999):\n",
        "        #Membuat syarat ketujuh jika syarat keenam tidak terpenuhi\n",
        "          satpulras.append(\"Ratusan\")\n",
        "          #Menambahkan Ratusan jika syarat ketujuh terpenuhi\n",
        "        else:\n",
        "        #Membuat syarat kedelapan jika syarat ketuju tidak terpenuhi\n",
        "          satpulras.append(\"Ribuan\")\n",
        "          #Menambahkan Ribuan jika syarat kedelapan terpenuhi\n",
        "  else:\n",
        "  #Syarat kedua jika input tidak sesuai\n",
        "    print(\"Salah Input bro\")\n",
        "    #Sebuah aksi jika input tidak sesuai\n",
        "\n",
        "  if (a>-9999) & (b<9999):\n",
        "  #Mengecek kembali apakah input sesuai\n",
        "  #Jika sesuai maka akan mengeksekusi beberapa aksi dibawah\n",
        "    dict1={\"Bilangan \": ubah_tipe, \"Ganjil/Genap\" : ganjilgenap, \"Pos/Neg/Nol\" : posneg, \"Satuan/Puluhan/Ratusan/Ribuan\" : satpulras}\n",
        "    #Membuat dictionary\n",
        "    df = pd.DataFrame(dict1)\n",
        "    #Membuat data frame\n",
        "    return df\n",
        "    #Output dari data frame\n",
        "  else :\n",
        "  #Jika tidak sesuai akan memproses aksi berikut\n",
        "    print(\"Jadinya Gabisa Bikin DataFrame Deh\")\n",
        "    #Sebuah aksi jika input tidak sesuai\n",
        "fgsdta()\n",
        "#Menggunakan fungsi yang sudah dibuat"
      ],
      "execution_count": null,
      "outputs": [
        {
          "output_type": "stream",
          "text": [
            "------------------------------------\n",
            "Intervalnya adalah -9999 Sampai 9999\n",
            "Jika Salah Diwajibkan Input Kembali\n",
            "------------------------------------\n",
            "Masukkan Nilai Awal a = -1000\n",
            "Masukkan Nilai Akhir b = 1000\n"
          ],
          "name": "stdout"
        },
        {
          "output_type": "execute_result",
          "data": {
            "text/html": [
              "<div>\n",
              "<style scoped>\n",
              "    .dataframe tbody tr th:only-of-type {\n",
              "        vertical-align: middle;\n",
              "    }\n",
              "\n",
              "    .dataframe tbody tr th {\n",
              "        vertical-align: top;\n",
              "    }\n",
              "\n",
              "    .dataframe thead th {\n",
              "        text-align: right;\n",
              "    }\n",
              "</style>\n",
              "<table border=\"1\" class=\"dataframe\">\n",
              "  <thead>\n",
              "    <tr style=\"text-align: right;\">\n",
              "      <th></th>\n",
              "      <th>Bilangan</th>\n",
              "      <th>Ganjil/Genap</th>\n",
              "      <th>Pos/Neg/Nol</th>\n",
              "      <th>Satuan/Puluhan/Ratusan/Ribuan</th>\n",
              "    </tr>\n",
              "  </thead>\n",
              "  <tbody>\n",
              "    <tr>\n",
              "      <th>0</th>\n",
              "      <td>-1000</td>\n",
              "      <td>genap</td>\n",
              "      <td>negatif</td>\n",
              "      <td>Ribuan</td>\n",
              "    </tr>\n",
              "    <tr>\n",
              "      <th>1</th>\n",
              "      <td>-999</td>\n",
              "      <td>ganjil</td>\n",
              "      <td>negatif</td>\n",
              "      <td>Ratusan</td>\n",
              "    </tr>\n",
              "    <tr>\n",
              "      <th>2</th>\n",
              "      <td>-998</td>\n",
              "      <td>genap</td>\n",
              "      <td>negatif</td>\n",
              "      <td>Ratusan</td>\n",
              "    </tr>\n",
              "    <tr>\n",
              "      <th>3</th>\n",
              "      <td>-997</td>\n",
              "      <td>ganjil</td>\n",
              "      <td>negatif</td>\n",
              "      <td>Ratusan</td>\n",
              "    </tr>\n",
              "    <tr>\n",
              "      <th>4</th>\n",
              "      <td>-996</td>\n",
              "      <td>genap</td>\n",
              "      <td>negatif</td>\n",
              "      <td>Ratusan</td>\n",
              "    </tr>\n",
              "    <tr>\n",
              "      <th>...</th>\n",
              "      <td>...</td>\n",
              "      <td>...</td>\n",
              "      <td>...</td>\n",
              "      <td>...</td>\n",
              "    </tr>\n",
              "    <tr>\n",
              "      <th>1996</th>\n",
              "      <td>996</td>\n",
              "      <td>genap</td>\n",
              "      <td>positif</td>\n",
              "      <td>Ratusan</td>\n",
              "    </tr>\n",
              "    <tr>\n",
              "      <th>1997</th>\n",
              "      <td>997</td>\n",
              "      <td>ganjil</td>\n",
              "      <td>positif</td>\n",
              "      <td>Ratusan</td>\n",
              "    </tr>\n",
              "    <tr>\n",
              "      <th>1998</th>\n",
              "      <td>998</td>\n",
              "      <td>genap</td>\n",
              "      <td>positif</td>\n",
              "      <td>Ratusan</td>\n",
              "    </tr>\n",
              "    <tr>\n",
              "      <th>1999</th>\n",
              "      <td>999</td>\n",
              "      <td>ganjil</td>\n",
              "      <td>positif</td>\n",
              "      <td>Ratusan</td>\n",
              "    </tr>\n",
              "    <tr>\n",
              "      <th>2000</th>\n",
              "      <td>1000</td>\n",
              "      <td>genap</td>\n",
              "      <td>positif</td>\n",
              "      <td>Ribuan</td>\n",
              "    </tr>\n",
              "  </tbody>\n",
              "</table>\n",
              "<p>2001 rows × 4 columns</p>\n",
              "</div>"
            ],
            "text/plain": [
              "      Bilangan  Ganjil/Genap Pos/Neg/Nol Satuan/Puluhan/Ratusan/Ribuan\n",
              "0         -1000        genap     negatif                        Ribuan\n",
              "1          -999       ganjil     negatif                       Ratusan\n",
              "2          -998        genap     negatif                       Ratusan\n",
              "3          -997       ganjil     negatif                       Ratusan\n",
              "4          -996        genap     negatif                       Ratusan\n",
              "...         ...          ...         ...                           ...\n",
              "1996        996        genap     positif                       Ratusan\n",
              "1997        997       ganjil     positif                       Ratusan\n",
              "1998        998        genap     positif                       Ratusan\n",
              "1999        999       ganjil     positif                       Ratusan\n",
              "2000       1000        genap     positif                        Ribuan\n",
              "\n",
              "[2001 rows x 4 columns]"
            ]
          },
          "metadata": {
            "tags": []
          },
          "execution_count": 1
        }
      ]
    }
  ]
}