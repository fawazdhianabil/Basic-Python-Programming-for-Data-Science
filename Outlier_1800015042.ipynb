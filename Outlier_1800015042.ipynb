{
  "nbformat": 4,
  "nbformat_minor": 0,
  "metadata": {
    "colab": {
      "name": "Outlier_1800015042.ipynb",
      "provenance": [],
      "collapsed_sections": [],
      "mount_file_id": "1_Y_262YaxhJtMP0y3on7OwL2rz4q39Lj",
      "authorship_tag": "ABX9TyM/ygraCiHbCI5sm9zveY8q",
      "include_colab_link": true
    },
    "kernelspec": {
      "name": "python3",
      "display_name": "Python 3"
    },
    "language_info": {
      "name": "python"
    }
  },
  "cells": [
    {
      "cell_type": "markdown",
      "metadata": {
        "id": "view-in-github",
        "colab_type": "text"
      },
      "source": [
        "<a href=\"https://colab.research.google.com/github/fawazdhianabil/Basic-Python-Programming-for-Data-Science/blob/main/Outlier_1800015042.ipynb\" target=\"_parent\"><img src=\"https://colab.research.google.com/assets/colab-badge.svg\" alt=\"Open In Colab\"/></a>"
      ]
    },
    {
      "cell_type": "code",
      "metadata": {
        "id": "TB3HwI_z1jAS"
      },
      "source": [
        "#Mengimport modul \n",
        "import matplotlib.pyplot as plt\n",
        "import numpy as np\n",
        "import pandas as pd\n",
        "import scipy.stats as stats"
      ],
      "execution_count": null,
      "outputs": []
    },
    {
      "cell_type": "code",
      "metadata": {
        "colab": {
          "base_uri": "https://localhost:8080/"
        },
        "id": "knOUhQC03kAF",
        "outputId": "79103184-2736-4804-9c59-7078bd1668a9"
      },
      "source": [
        "#Menentukan y dan x\n",
        "%matplotlib inline\n",
        "y = np.random.random(500)\n",
        "x = np.arange(len(y))\n",
        "print(len(x))"
      ],
      "execution_count": null,
      "outputs": [
        {
          "output_type": "stream",
          "text": [
            "500\n"
          ],
          "name": "stdout"
        }
      ]
    },
    {
      "cell_type": "code",
      "metadata": {
        "colab": {
          "base_uri": "https://localhost:8080/",
          "height": 281
        },
        "id": "9tqmzd3L5CX_",
        "outputId": "3811f944-f98f-4de1-874f-7fce3eb44b3d"
      },
      "source": [
        "#Membuat plot x dan y\n",
        "plt.scatter(x,y)"
      ],
      "execution_count": null,
      "outputs": [
        {
          "output_type": "execute_result",
          "data": {
            "text/plain": [
              "<matplotlib.collections.PathCollection at 0x7f2e0aaeb910>"
            ]
          },
          "metadata": {
            "tags": []
          },
          "execution_count": 62
        },
        {
          "output_type": "display_data",
          "data": {
            "image/png": "[encoded data removed]",
            "text/plain": [
              "<Figure size 432x288 with 1 Axes>"
            ]
          },
          "metadata": {
            "tags": [],
            "needs_background": "light"
          }
        }
      ]
    },
    {
      "cell_type": "code",
      "metadata": {
        "colab": {
          "base_uri": "https://localhost:8080/",
          "height": 281
        },
        "id": "5I3W34rb53Py",
        "outputId": "f7f1cec5-7cae-4945-b1fc-4ffc9b36ae41"
      },
      "source": [
        "y[15] = 9\n",
        "y[450] = 10\n",
        "y[100] = 15\n",
        "plt.scatter(x,y)"
      ],
      "execution_count": null,
      "outputs": [
        {
          "output_type": "execute_result",
          "data": {
            "text/plain": [
              "<matplotlib.collections.PathCollection at 0x7f2e0aa4c490>"
            ]
          },
          "metadata": {
            "tags": []
          },
          "execution_count": 77
        },
        {
          "output_type": "display_data",
          "data": {
            "image/png": "[encoded data removed]",
            "text/plain": [
              "<Figure size 432x288 with 1 Axes>"
            ]
          },
          "metadata": {
            "tags": [],
            "needs_background": "light"
          }
        }
      ]
    },
    {
      "cell_type": "code",
      "metadata": {
        "id": "ZC_VU7Y4-h58"
      },
      "source": [
        "def G_Hitung(y):\n",
        "    # Simpangan y\n",
        "    std_dev = np.std(y)\n",
        "    # Rata-rata y\n",
        "    rata2_y = np.mean(y)\n",
        "    # Nilai Mutlak selisih data dengan rata-rata\n",
        "    selisih = abs(y-rata2_y)\n",
        "    # Nilai Maksimal Selisih\n",
        "    max_selisih=max(selisih)\n",
        "    # Indeks Nilai Maksimal Selisih\n",
        "    max_s_ind=np.argmax(selisih)\n",
        "    # Menghitung GCAL\n",
        "    Ghit=max_selisih/std_dev\n",
        "    return Ghit, max_s_ind"
      ],
      "execution_count": null,
      "outputs": []
    },
    {
      "cell_type": "code",
      "metadata": {
        "id": "78hDeYEE-lhR"
      },
      "source": [
        "def G_Tabel(ukuran, alpha):\n",
        "    t_dist = stats.t.ppf(1 - alpha / (2 * ukuran), ukuran - 2)\n",
        "    A = (ukuran - 1) * np.sqrt(np.square(t_dist))\n",
        "    B = np.sqrt(ukuran) * np.sqrt(ukuran - 2 + np.square(t_dist))\n",
        "    G_tabel = A / B\n",
        "    return G_tabel"
      ],
      "execution_count": null,
      "outputs": []
    },
    {
      "cell_type": "code",
      "metadata": {
        "id": "uMzLMHj7-tlF"
      },
      "source": [
        "#Membentuk fungsi ESD\n",
        "def ESD(y, alpha, n):\n",
        "    outlier=[]\n",
        "    for i in range(n):\n",
        "        G_tabel=G_Tabel(len(y), alpha)\n",
        "        Ghit, max_s_ind = G_Hitung(y)\n",
        "        if Ghit>G_tabel:\n",
        "            outlier.append(y[max_s_ind])\n",
        "            y = np.delete(y, max_s_ind)\n",
        "    outlier=np.array(outlier)\n",
        "    return outlier"
      ],
      "execution_count": null,
      "outputs": []
    },
    {
      "cell_type": "code",
      "metadata": {
        "colab": {
          "base_uri": "https://localhost:8080/"
        },
        "id": "1-ESMCoe-vLR",
        "outputId": "dda86f75-6b74-460f-f42e-81d698ab2a23"
      },
      "source": [
        "#Memasukkan input ke fungsi ESD\n",
        "ESD(y, 0.01, 5)"
      ],
      "execution_count": null,
      "outputs": [
        {
          "output_type": "execute_result",
          "data": {
            "text/plain": [
              "array([15., 10.,  9.])"
            ]
          },
          "metadata": {
            "tags": []
          },
          "execution_count": 81
        }
      ]
    }
  ]
}