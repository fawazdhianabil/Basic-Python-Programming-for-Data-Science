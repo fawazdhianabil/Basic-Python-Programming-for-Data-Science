{
  "nbformat": 4,
  "nbformat_minor": 0,
  "metadata": {
    "colab": {
      "name": "MAthanabilAndiF_1800015042_Tugas_DataFrame",
      "provenance": [],
      "collapsed_sections": [],
      "toc_visible": true,
      "include_colab_link": true
    },
    "kernelspec": {
      "name": "python3",
      "display_name": "Python 3"
    },
    "language_info": {
      "name": "python"
    }
  },
  "cells": [
    {
      "cell_type": "markdown",
      "metadata": {
        "id": "view-in-github",
        "colab_type": "text"
      },
      "source": [
        "<a href=\"https://colab.research.google.com/github/fawazdhianabil/Basic-Python-Programming-for-Data-Science/blob/main/MAthanabilAndiF_1800015042_Tugas_DataFrame.ipynb\" target=\"_parent\"><img src=\"https://colab.research.google.com/assets/colab-badge.svg\" alt=\"Open In Colab\"/></a>"
      ]
    },
    {
      "cell_type": "markdown",
      "metadata": {
        "id": "TQTRIrnnv1d1"
      },
      "source": [
        "## Dataset"
      ]
    },
    {
      "cell_type": "code",
      "metadata": {
        "id": "6AJ1KyK2vd5-"
      },
      "source": [
        "import pandas as pd\n",
        "import numpy as np\n"
      ],
      "execution_count": null,
      "outputs": []
    },
    {
      "cell_type": "code",
      "metadata": {
        "id": "v1AmW3H0v4js"
      },
      "source": [
        "df = pd.read_csv(\"https://raw.githubusercontent.com/jokoeliyanto/Kelas-Dasar-Pejuang-Data-2.0/main/Super-Store-Dataset.csv\")\n",
        "df"
      ],
      "execution_count": null,
      "outputs": []
    },
    {
      "cell_type": "markdown",
      "metadata": {
        "id": "fNJlxji43rIv"
      },
      "source": [
        "## Variabel dataset\n",
        "\n",
        "\n"
      ]
    },
    {
      "cell_type": "markdown",
      "metadata": {
        "id": "yELOC18jK11Q"
      },
      "source": [
        "Variabel-variabel yang terdapat pada dataset ini adalah sebagai berikut:\n",
        "1. **order_id** = Nomor ID pembelian(nota)\n",
        "2. **order_data** = Tanggal pembelian\n",
        "3. **customer_id** = Nomor ID pembeli\n",
        "4. **segment** = Segmen produk \n",
        "5. **category** = Kategori produk\n",
        "6. **sub_category** = Sub kategori produk\n",
        "7. **sales** = Total harga pembelian\n",
        "8. **quantity** = Jumlah produk dibeli\n",
        "9. **profit** = Keuntungan"
      ]
    },
    {
      "cell_type": "markdown",
      "metadata": {
        "id": "Aqo2bJTQK6oS"
      },
      "source": [
        ""
      ]
    },
    {
      "cell_type": "markdown",
      "metadata": {
        "id": "igjm48vdp5SF"
      },
      "source": [
        "#Tugas Individu"
      ]
    },
    {
      "cell_type": "markdown",
      "metadata": {
        "id": "FpTHwIfhS5mF"
      },
      "source": [
        "\n",
        "1. Tentukan Segment mana dengan profit tertinggi!  [30]\n",
        "2. Tentukan Category mana dengan sales terbanyak!  [30]\n",
        "3. Tentukan Sub-Category dengan quantity paling sedikit! [40]\n",
        "\n",
        "\n",
        "\n",
        "\n",
        "\n",
        "4. **Challange Question!!!  Tentukan Bulan dengan Profit Tertinggi!!!** \n",
        "\n",
        "Bonus Nilai 100 di Salah Satu Tugas Lainnya\n"
      ]
    },
    {
      "cell_type": "markdown",
      "metadata": {
        "id": "PJyy8iw6qWML"
      },
      "source": [
        "# Tentukan Segment mana dengan profit tertinggi! [30]"
      ]
    },
    {
      "cell_type": "code",
      "metadata": {
        "id": "KGTuCeiKvnh9"
      },
      "source": [
        "df.segment.value_counts()"
      ],
      "execution_count": null,
      "outputs": []
    },
    {
      "cell_type": "code",
      "metadata": {
        "id": "Y_WGeP8jxgn9"
      },
      "source": [
        "#Memilih masing-masing segmen\n",
        "df_Consumer=df[df['segment']=='Consumer']\n",
        "df_Corporate=df[df['segment']=='Corporate']\n",
        "df_Home_Office=df[df['segment']=='Home Office']"
      ],
      "execution_count": null,
      "outputs": []
    },
    {
      "cell_type": "code",
      "metadata": {
        "id": "Mrc7Nrrxv6aP"
      },
      "source": [
        "# Tentukan Segment mana dengan profit tertinggi! [30]\n",
        "a=df_Consumer.profit.sum()\n",
        "b=df_Corporate.profit.sum()\n",
        "c=df_Home_Office.profit.sum()\n",
        "print(\"Profit dari Consumer adalah    :\",a)\n",
        "print(\"Profit dari Corporate adalah   :\",b)\n",
        "print(\"Profit dari Home Office adalah :\",c)\n",
        "print(\"--------------------------------\")\n",
        "if a>b>c:\n",
        "  print(\"Tertinggi adalah Consumer sebanyak\",a)\n",
        "elif b>a>c:\n",
        "  print(\"Tertinggi adalah Coroporate sebanyak\",b)\n",
        "else :\n",
        "  print(\"Tertinggi adalah Home Office sebanyak\",c)"
      ],
      "execution_count": null,
      "outputs": []
    },
    {
      "cell_type": "markdown",
      "metadata": {
        "id": "x1CYxruuqKmc"
      },
      "source": [
        "\n",
        "#Tentukan category mana dengan sales terbanyak[30]"
      ]
    },
    {
      "cell_type": "code",
      "metadata": {
        "id": "GCk1-hK_yBkZ"
      },
      "source": [
        "df.category.value_counts()"
      ],
      "execution_count": null,
      "outputs": []
    },
    {
      "cell_type": "code",
      "metadata": {
        "id": "ysph26TCyRvQ"
      },
      "source": [
        "#Memilih masing-masing category\n",
        "df_Office_Supplies=df[df['category']=='Office Supplies']\n",
        "df_Furniture=df[df['category']=='Furniture']\n",
        "df_Technology=df[df['category']=='Technology']"
      ],
      "execution_count": null,
      "outputs": []
    },
    {
      "cell_type": "code",
      "metadata": {
        "id": "QvBSTEalzBiu"
      },
      "source": [
        "#Tentukan category mana dengan sales terbanyak[30]\n",
        "a=df_Consumer.sales.sum()\n",
        "b=df_Corporate.sales.sum()\n",
        "c=df_Home_Office.sales.sum()\n",
        "print(\"Sales dari Office Supplies adalah :\",a)\n",
        "print(\"Sales dari Furniture adalah       :\",b)\n",
        "print(\"Sales dari Technology adalah      :\",c)\n",
        "print(\"-----------------------------------\")\n",
        "if a>b>c:\n",
        "  print(\"Tertinggi adalah Office Supplies sebanyak\",a)\n",
        "elif b>a>c:\n",
        "  print(\"Tertinggi adalah Furniture sebanyak\",b)\n",
        "else :\n",
        "  print(\"Tertinggi adalah Technology sebanyak\",c)"
      ],
      "execution_count": null,
      "outputs": []
    },
    {
      "cell_type": "markdown",
      "metadata": {
        "id": "8pq_8VMRqij3"
      },
      "source": [
        "#Tentukan Sub-Category dengan quantity paling sedikit! [40]"
      ]
    },
    {
      "cell_type": "code",
      "metadata": {
        "id": "bcbqntT-21bQ"
      },
      "source": [
        "df.sub_category.value_counts()"
      ],
      "execution_count": null,
      "outputs": []
    },
    {
      "cell_type": "code",
      "metadata": {
        "id": "SaH_Cgzy4fYs"
      },
      "source": [
        "#Memilih masing-masing Sub Category\n",
        "df_Binders=df[df['sub_category']=='Binders']\n",
        "df_Paper=df[df['sub_category']=='Paper']\n",
        "df_Furnishings=df[df['sub_category']=='Furnishings']\n",
        "df_Phones=df[df['sub_category']=='Phones']\n",
        "df_Storage=df[df['sub_category']=='Storage']\n",
        "df_Art=df[df['sub_category']=='Art']\n",
        "df_Accessories=df[df['sub_category']=='Accessories']\n",
        "df_Chairs=df[df['sub_category']=='Chairs']\n",
        "df_Appliances=df[df['sub_category']=='Appliances']\n",
        "df_Labels=df[df['sub_category']=='Labels']\n",
        "df_Tables=df[df['sub_category']=='Tables']\n",
        "df_Envelopes=df[df['sub_category']=='Envelopes']\n",
        "df_Bookcases=df[df['sub_category']=='Bookcases']\n",
        "df_Fasteners=df[df['sub_category']=='Fasteners']\n",
        "df_Supplies=df[df['sub_category']=='Supplies']\n",
        "df_Machines=df[df['sub_category']=='Machines']\n",
        "df_Copiers=df[df['sub_category']=='Copiers']"
      ],
      "execution_count": null,
      "outputs": []
    },
    {
      "cell_type": "code",
      "metadata": {
        "id": "VYVqBeE242fA"
      },
      "source": [
        "#Tentukan Sub-Category dengan quantity paling sedikit! [40]\n",
        "a=df_Binders.quantity.sum()\n",
        "b=df_Paper.quantity.sum()\n",
        "c=df_Furnishings.quantity.sum()\n",
        "d=df_Phones.quantity.sum()\n",
        "e=df_Storage.quantity.sum()\n",
        "f=df_Art.quantity.sum()\n",
        "g=df_Accessories.quantity.sum()\n",
        "h=df_Chairs.quantity.sum()\n",
        "i=df_Appliances.quantity.sum()\n",
        "j=df_Labels.quantity.sum()\n",
        "k=df_Tables.quantity.sum()\n",
        "l=df_Envelopes.quantity.sum()\n",
        "m=df_Bookcases.quantity.sum()\n",
        "n=df_Fasteners.quantity.sum()\n",
        "o=df_Supplies.quantity.sum()\n",
        "p=df_Machines.quantity.sum()\n",
        "q=df_Copiers.quantity.sum()\n",
        "print(\"-----------------------------------\")\n",
        "#Karena banyak make IF, maka saya makai DICTIONARY\n",
        "Sub_Category=['Binders', 'Paper','Furnishings','Phones','Storage','Art','Accessories',\n",
        "           'Chairs','Appliances','Labels','Tables','Envelopes','Bookcases',\n",
        "           'Fasteners','Supplies','Machines','Copiers']\n",
        "Banyak=[a,b,c,d,e,f,g,h,i,j,k,l,m,n,o,p,q]\n",
        "dictsub = {'Sub Category':Sub_Category, 'Jumlah Quantitiy':Banyak}\n",
        "tabel = pd.DataFrame(dictsub,index=['1','2','3','4','5','6','7','8','9','10',\n",
        "                                    '11','12','13','14','15','16','17'])\n",
        "print(tabel)\n",
        "print(\"-----------------------------------\")\n",
        "print(\"                            \",[min(Banyak)])\n",
        "print(\"-----------------------------------\")\n",
        "print(\"Jumlah Quantitiy paling sedikit adalah Copiers :\", min(Banyak))\n"
      ],
      "execution_count": null,
      "outputs": []
    },
    {
      "cell_type": "markdown",
      "metadata": {
        "id": "HYUrxlKuqo8K"
      },
      "source": [
        "#Challange Question!!!  Tentukan Bulan dengan Profit Tertinggi!!!"
      ]
    },
    {
      "cell_type": "code",
      "metadata": {
        "id": "HJpTu6sAg8md"
      },
      "source": [
        "#Challange Question!!!  Tentukan Bulan dengan Profit Tertinggi!!!\n",
        "#Membentuk DateTime index\n",
        "df['order_date'] = pd.to_datetime(df['order_date'])\n",
        "df = df.set_index('order_date')\n",
        "#Menjumlahkan semua data dalam 1 bulan dengan frekuensi Bulan \n",
        "jumlahprofit_bulan = df.profit.resample('M').sum()\n",
        "jumlahprofit_bulan"
      ],
      "execution_count": null,
      "outputs": []
    },
    {
      "cell_type": "code",
      "metadata": {
        "id": "Lk_31adamYy6"
      },
      "source": [
        "#Cari Bulan dengan Profit Tertinggi\n",
        "print(jumlahprofit_bulan[jumlahprofit_bulan==max(jumlahprofit_bulan)])"
      ],
      "execution_count": null,
      "outputs": []
    },
    {
      "cell_type": "code",
      "metadata": {
        "id": "QDuVnw8MnVsW"
      },
      "source": [
        "print(\"Bulan dengan Profit Tertinggi adalah Bulan Desember Tahun 2016, dengan Sebanyak :\", max(jumlahprofit_bulan))"
      ],
      "execution_count": null,
      "outputs": []
    }
  ]
}