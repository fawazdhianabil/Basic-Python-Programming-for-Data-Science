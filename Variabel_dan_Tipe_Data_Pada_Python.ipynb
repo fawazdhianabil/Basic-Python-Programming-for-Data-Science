{
  "nbformat": 4,
  "nbformat_minor": 0,
  "metadata": {
    "colab": {
      "name": "Variabel dan Tipe Data Pada Python.ipynb",
      "provenance": [],
      "collapsed_sections": [],
      "toc_visible": true,
      "include_colab_link": true
    },
    "kernelspec": {
      "name": "python3",
      "display_name": "Python 3"
    }
  },
  "cells": [
    {
      "cell_type": "markdown",
      "metadata": {
        "id": "view-in-github",
        "colab_type": "text"
      },
      "source": [
        "<a href=\"https://colab.research.google.com/github/fawazdhianabil/Basic-Python-Programming-for-Data-Science/blob/main/Variabel_dan_Tipe_Data_Pada_Python.ipynb\" target=\"_parent\"><img src=\"https://colab.research.google.com/assets/colab-badge.svg\" alt=\"Open In Colab\"/></a>"
      ]
    },
    {
      "cell_type": "markdown",
      "metadata": {
        "id": "Og624K31g4Ja"
      },
      "source": [
        "![alt text](https://drive.google.com/uc?id=1oZeOBAOozxedBi-jq-LzN8BQd0NB7Ocy\n",
        ")\n",
        "\n",
        "\n"
      ]
    },
    {
      "cell_type": "markdown",
      "metadata": {
        "id": "0KrQhq25d3XW"
      },
      "source": [
        "##  **Input & Output pada Pyhton**"
      ]
    },
    {
      "cell_type": "markdown",
      "metadata": {
        "id": "q9n37nDmd8-5"
      },
      "source": [
        "Kita akan memulai dengan mencoba mengenal dan memahami proses input dan output pada bahasa pemrograman python. Sebuah Program terdiri dari Input, Proses dan Output\n",
        "\n",
        "**Membuat input dengan fungsi input()**\n",
        "\n",
        "format input() :\n",
        "input(*object, nilai)\n",
        "\n",
        "Sebuah input dapat dikelola berdasarkan tipe datanya :\n",
        "\n",
        "* input() : nilai berupa string\n",
        "\n",
        "* str(input()) : nilai berupa string\n",
        "\n",
        "* int(input()) : nilai berupa integer\n",
        "\n",
        "* float(input()) : nilai berupa float\n",
        "\n",
        "* bool(input()) : nilai berupa boolean\n",
        "\n",
        "**Untuk menampilkan Output dengan fungsi print()**\n",
        "\n",
        "format print() :\n",
        "print(*object, sep=' ', end='\\n', file=sys.stdout, flush=False/True)"
      ]
    },
    {
      "cell_type": "code",
      "metadata": {
        "id": "owIrz7XYeZb-",
        "colab": {
          "base_uri": "https://localhost:8080/"
        },
        "outputId": "d76d9eb8-4999-4333-dbba-ad578b18d792"
      },
      "source": [
        "# Mas Nabil nyoba input bertipe data string (str)\n",
        "nama = input(\"Nama : \")\n",
        "umur = input(\"Umur : \")\n",
        "alamat = input(\"Alamat : \")\n",
        "pekerjaan = input(\"Pekerjaan : \")\n",
        "universitas = input(\"Universitas : \")\n",
        "status = input(\"Status : \")\n",
        "mediasosial = input(\"Instagram : \")"
      ],
      "execution_count": null,
      "outputs": [
        {
          "output_type": "stream",
          "text": [
            "Nama : Mas Nabil\n",
            "Umur : 20 \n",
            "Alamat : Bintan, Kepulauan Riau\n",
            "Pekerjaan : Mahasiswa\n",
            "Universitas : Universitas Ahmad Dahlan\n",
            "Status : Single\n",
            "Instagram : fawazdhia_\n"
          ],
          "name": "stdout"
        }
      ]
    },
    {
      "cell_type": "code",
      "metadata": {
        "id": "AUYUbTLklIax",
        "colab": {
          "base_uri": "https://localhost:8080/"
        },
        "outputId": "c054b4e4-3ab9-4dc4-f5c1-fea8296a8737"
      },
      "source": [
        "print(nama)\n",
        "print(umur)\n",
        "print(alamat)\n",
        "print(pekerjaan)\n",
        "print(universitas)\n",
        "print(status)\n",
        "print(mediasosial)\n",
        "type(nama)\n",
        "type(umur)\n",
        "type(alamat)\n",
        "type(pekerjaan)\n",
        "type(status)\n",
        "type(mediasosial)"
      ],
      "execution_count": null,
      "outputs": [
        {
          "output_type": "stream",
          "text": [
            "Mas Nabil\n",
            "20 \n",
            "Bintan, Kepulauan Riau\n",
            "Mahasiswa\n",
            "Universitas Ahmad Dahlan\n",
            "Single\n",
            "fawazdhia_\n"
          ],
          "name": "stdout"
        },
        {
          "output_type": "execute_result",
          "data": {
            "text/plain": [
              "str"
            ]
          },
          "metadata": {
            "tags": []
          },
          "execution_count": 16
        }
      ]
    },
    {
      "cell_type": "markdown",
      "metadata": {
        "id": "frV9dqp5jlBD"
      },
      "source": [
        "Mas Nabil Mencoba"
      ]
    },
    {
      "cell_type": "code",
      "metadata": {
        "id": "tKNsgrWujn49",
        "colab": {
          "base_uri": "https://localhost:8080/"
        },
        "outputId": "026e9e09-158f-4c81-eea5-bec833ed8b28"
      },
      "source": [
        "markicob = (int(input())*float(input()))/int(input())\n",
        "print(markicob)"
      ],
      "execution_count": null,
      "outputs": [
        {
          "output_type": "stream",
          "text": [
            "5\n",
            "5.5\n",
            "2\n",
            "13.75\n"
          ],
          "name": "stdout"
        }
      ]
    },
    {
      "cell_type": "markdown",
      "metadata": {
        "id": "tzkB1SQ1jqPM"
      },
      "source": [
        "Mas Nabil Mencoba (2)"
      ]
    },
    {
      "cell_type": "code",
      "metadata": {
        "id": "p5Z-jMEijtlV",
        "colab": {
          "base_uri": "https://localhost:8080/"
        },
        "outputId": "636bd8ad-3c30-459c-c7f4-8a7849c5c7a6"
      },
      "source": [
        "print(\"Saya Biasa dipanggil\"+\" \"+ nama +\", \"+ \"Seorang\"+\" \"+ pekerjaan +\" \"+ \"di\" +\" \"+ universitas +\" \"+ \"dengan Umur\"+\" \"+umur+\"Tahun\"+\" \"+\"dan Tinggal di\"+\" \"+ alamat)"
      ],
      "execution_count": null,
      "outputs": [
        {
          "output_type": "stream",
          "text": [
            "Saya Biasa dipanggil Mas Nabil, Seorang Mahasiswa di Universitas Ahmad Dahlan dengan Umur 20 Tahun dan Tinggal di Bintan, Kepulauan Riau\n"
          ],
          "name": "stdout"
        }
      ]
    },
    {
      "cell_type": "markdown",
      "metadata": {
        "id": "XSSsrFkEemXP"
      },
      "source": [
        "**Menampilkan Output cara kedua**\n",
        "\n",
        "Menggunakan fungsi format()"
      ]
    },
    {
      "cell_type": "code",
      "metadata": {
        "id": "mavFHYasj3RL",
        "colab": {
          "base_uri": "https://localhost:8080/",
          "height": 35
        },
        "outputId": "d1973f29-0e69-49b6-bd97-61156eab2126"
      },
      "source": [
        "txt1 = \"Nama saya {nama}, Saya berumur {umur}\".format(nama = \"Dahlan\", umur = 18)\n",
        "txt1"
      ],
      "execution_count": null,
      "outputs": [
        {
          "output_type": "execute_result",
          "data": {
            "application/vnd.google.colaboratory.intrinsic+json": {
              "type": "string"
            },
            "text/plain": [
              "'Nama saya Dahlan, Saya berumur 18'"
            ]
          },
          "metadata": {
            "tags": []
          },
          "execution_count": 32
        }
      ]
    },
    {
      "cell_type": "code",
      "metadata": {
        "id": "MgiB5WBOkxzY",
        "colab": {
          "base_uri": "https://localhost:8080/",
          "height": 35
        },
        "outputId": "81a56d4f-6bca-498b-8043-e01fe2375478"
      },
      "source": [
        "txt2 = \"Nama saya {0}, Saya berumur {1}\".format(\"Dahlan\",18)\n",
        "txt2"
      ],
      "execution_count": null,
      "outputs": [
        {
          "output_type": "execute_result",
          "data": {
            "application/vnd.google.colaboratory.intrinsic+json": {
              "type": "string"
            },
            "text/plain": [
              "'Nama saya Dahlan, Saya berumur 18'"
            ]
          },
          "metadata": {
            "tags": []
          },
          "execution_count": 16
        }
      ]
    },
    {
      "cell_type": "code",
      "metadata": {
        "id": "fKGVHjq7kyo_",
        "colab": {
          "base_uri": "https://localhost:8080/",
          "height": 35
        },
        "outputId": "cff28403-9862-479d-8005-a9fbd965d070"
      },
      "source": [
        "txt3 = \"Nama saya {}, Saya berumur {}\".format(\"Dahlan\",18)\n",
        "txt3"
      ],
      "execution_count": null,
      "outputs": [
        {
          "output_type": "execute_result",
          "data": {
            "application/vnd.google.colaboratory.intrinsic+json": {
              "type": "string"
            },
            "text/plain": [
              "'Nama saya Dahlan, Saya berumur 18'"
            ]
          },
          "metadata": {
            "tags": []
          },
          "execution_count": 17
        }
      ]
    },
    {
      "cell_type": "markdown",
      "metadata": {
        "id": "Ho1x_r1Sk-KX"
      },
      "source": [
        "Mas Nabil Mencoba lagi"
      ]
    },
    {
      "cell_type": "code",
      "metadata": {
        "id": "T66KZDWyk_AN",
        "colab": {
          "base_uri": "https://localhost:8080/"
        },
        "outputId": "3dac4d5f-0bab-4b3c-9667-63218dc2154c"
      },
      "source": [
        "bertanya = \"Mas Nabil : Saya biasa dipanggil {}, Nama kamu siapa? Asalnya darimana?\".format(\"Nabil\")\n",
        "dijawab = \"Mba Nabila : Nama Saya {0}, Asal saya dari {1}\".format(\"Nabila\",\"Malaysia\")\n",
        "print(bertanya) \n",
        "print(dijawab)"
      ],
      "execution_count": null,
      "outputs": [
        {
          "output_type": "stream",
          "text": [
            "Mas Nabil : Saya biasa dipanggil Nabil, Nama kamu siapa? Asalnya darimana?\n",
            "Mba Nabila : Nama Saya Nabila, Asal saya dari Malaysia\n"
          ],
          "name": "stdout"
        }
      ]
    },
    {
      "cell_type": "markdown",
      "metadata": {
        "id": "uYCMhDyWeqTZ"
      },
      "source": [
        "**Menampilkan Output cara ketiga**\n",
        "\n",
        "Menggunakan simbol %\n",
        "\n",
        "* %c : mencetak karakter\n",
        "\n",
        "* %s : mencetak data menjadi string\n",
        "\n",
        "* %i, %d : mencetak angka desimal bertanda\n",
        "* %u : mencetak angka desimal tak bertanda\n",
        "* %x, %X : mencetak angka heksa dengan huruf kecil %x atau besar %X\n",
        "* %f : mencetak angka real berkoma\n",
        "* %e, %E : mencetak tanda eksponensial dengan huruf kecil %e atau besar %E\n",
        "* %g, %G : fungsi hampir sama dengan %f dan %e hanya saja pencetakan angak di belakang koma lebih pendek"
      ]
    },
    {
      "cell_type": "code",
      "metadata": {
        "id": "0bz0OcMzetR-"
      },
      "source": [
        "print(\"Nama saya %s yang berumur %s dan bertempat tinggal di %s\" %(nama, umur, alamat))"
      ],
      "execution_count": null,
      "outputs": []
    },
    {
      "cell_type": "markdown",
      "metadata": {
        "id": "W8oWmIBplFdL"
      },
      "source": [
        "Bang Nabil Mencoba"
      ]
    },
    {
      "cell_type": "code",
      "metadata": {
        "id": "zDzKyrpUlGXD",
        "colab": {
          "base_uri": "https://localhost:8080/"
        },
        "outputId": "652bbc72-0f36-4890-9c07-fdd9ee041e99"
      },
      "source": [
        "print(\"Saya biasa dipanggil %s oleh teman teman saya dan umur saya %s tahun\" %(nama, umur))\n",
        "print(\"Saya adalah %s di %s dan saya adalah angkatan 2018\" %(pekerjaan, universitas))\n",
        "print(\"Akun media sosial saya adalah Instagram dengan username %s\" %(mediasosial))"
      ],
      "execution_count": null,
      "outputs": [
        {
          "output_type": "stream",
          "text": [
            "Saya biasa dipanggil Mas Nabil oleh teman teman saya dan umur saya 20  tahun\n",
            "Saya adalah Mahasiswa di Universitas Ahmad Dahlan dan saya adalah angkatan 2018\n",
            "Akun media sosial saya adalah Instagram dengan username fawazdhia_\n"
          ],
          "name": "stdout"
        }
      ]
    },
    {
      "cell_type": "markdown",
      "metadata": {
        "id": "Lus7pe_3tD6n"
      },
      "source": [
        "## **Variabel, Tipe Data, Dan Konversinya**"
      ]
    },
    {
      "cell_type": "markdown",
      "metadata": {
        "id": "KJx8rxdzlKgR"
      },
      "source": [
        "Selanjutnya kita akan mengenal variabel dan tipe data pada python. Ini merupakan dasar yang harus dipahami di awal sebelum melanjutkan ke materi berikutnya. Pertama kita akan memahami bagaimana sebuah variabel dituliskan dalam python."
      ]
    },
    {
      "cell_type": "markdown",
      "metadata": {
        "id": "7Mzb7KbGvX4O"
      },
      "source": [
        "### Variabel"
      ]
    },
    {
      "cell_type": "markdown",
      "metadata": {
        "id": "57FeEUMgvaIj"
      },
      "source": [
        "*   Variabel merupakan tempat penyimpanan data atau nilai\n",
        "*   Sebuah variabel dalam python bisa diisi dengan berbagai tipe data\n",
        "*   Nama sebuah variabel tidak bisa diawali dengan angka/numerik\n",
        "*   Nama sebuah variabel selain keyword dari bahasa python\n",
        "*   Format variabel : Nama_variabel = data/nilai"
      ]
    },
    {
      "cell_type": "markdown",
      "metadata": {
        "id": "dO2t9vXyvv-A"
      },
      "source": [
        "**Membuat sebuah variabel dengan berbagai tipe data Python**"
      ]
    },
    {
      "cell_type": "markdown",
      "metadata": {
        "id": "rtPG7Nwrv00R"
      },
      "source": [
        "Variabel Baru Nabil"
      ]
    },
    {
      "cell_type": "code",
      "metadata": {
        "id": "xTlpIfrav6B1"
      },
      "source": [
        "varN1 = 'Assalamualaikum Hoax World'\n",
        "varN2 =  5678\n",
        "varN3 =  0.01\n",
        "varN4 =  True\n",
        "varN5 =  5j+1j+10+2"
      ],
      "execution_count": null,
      "outputs": []
    },
    {
      "cell_type": "markdown",
      "metadata": {
        "id": "gAC3CAFawHJ1"
      },
      "source": [
        "**Memanggil variabel dan menampilkan**"
      ]
    },
    {
      "cell_type": "markdown",
      "metadata": {
        "id": "996pBnxgwNf0"
      },
      "source": [
        "Kamu dapat memanggil variabel hanya dengan menuliskan variabel yang sudah kamu buat di atas dan menjalankan cellnya"
      ]
    },
    {
      "cell_type": "markdown",
      "metadata": {
        "id": "4eUl4LHlwZr3"
      },
      "source": [
        "Mas Nabil Mencobaa"
      ]
    },
    {
      "cell_type": "code",
      "metadata": {
        "id": "o_0CkJeoR526",
        "colab": {
          "base_uri": "https://localhost:8080/"
        },
        "outputId": "02e61168-c0b7-4563-fb24-6f9a9203e1a7"
      },
      "source": [
        "varN1,(varN5, varN2)\n"
      ],
      "execution_count": null,
      "outputs": [
        {
          "output_type": "execute_result",
          "data": {
            "text/plain": [
              "('Assalamualaikum Hoax World', ((12+6j), 5678))"
            ]
          },
          "metadata": {
            "tags": []
          },
          "execution_count": 81
        }
      ]
    },
    {
      "cell_type": "markdown",
      "metadata": {
        "id": "_fXoG5cvwliz"
      },
      "source": [
        "Selain itu, kamu juga bisa mencetak, atau menampilkan variabel yang sudah kamu buat dengan cara memasukkan syntak **print(*variable*)**. Contohnya sebagai berikut:"
      ]
    },
    {
      "cell_type": "code",
      "metadata": {
        "id": "1QQDTfwgw1X4",
        "colab": {
          "base_uri": "https://localhost:8080/"
        },
        "outputId": "80faf40d-3cd4-4929-d795-96ff5ff114fa"
      },
      "source": [
        "print(var1) #tipe data string\n",
        "print(var2) #tipe data integer\n",
        "print(var3) #tipe data float\n",
        "print(var4) #tipe data boolean\n",
        "print(var5) #tipe data Complex"
      ],
      "execution_count": null,
      "outputs": [
        {
          "output_type": "stream",
          "text": [
            "Assalamualaikum Dunia!\n",
            "1234567890\n",
            "0.123456789\n",
            "False\n",
            "(1+1j)\n"
          ],
          "name": "stdout"
        }
      ]
    },
    {
      "cell_type": "markdown",
      "metadata": {
        "id": "sx2xL6rBw4DI"
      },
      "source": [
        "Ini dia tampilan Variabel Nabil"
      ]
    },
    {
      "cell_type": "code",
      "metadata": {
        "id": "8JJMEObiw8UA",
        "colab": {
          "base_uri": "https://localhost:8080/"
        },
        "outputId": "d81581e7-bfa1-49c4-8ecf-5ee390da8e9a"
      },
      "source": [
        "#Mari Kita Coba\n",
        "\n",
        "print(varN1) #String\n",
        "\n",
        "print(varN2) #Int\n",
        "\n",
        "print(varN3) #Float\n",
        "\n",
        "print(varN4) #Boolean\n",
        "\n",
        "print(varN5) #Complex\n"
      ],
      "execution_count": null,
      "outputs": [
        {
          "output_type": "stream",
          "text": [
            "Assalamualaikum Hoax World\n",
            "5678\n",
            "0.01\n",
            "True\n",
            "(12+6j)\n"
          ],
          "name": "stdout"
        }
      ]
    },
    {
      "cell_type": "markdown",
      "metadata": {
        "id": "2bbm3gzTxF7i"
      },
      "source": [
        "Note: Tanda Pagar (#) berfungsi sebagai komentar, tidak dijalankan sebagai perintah pemrograman"
      ]
    },
    {
      "cell_type": "markdown",
      "metadata": {
        "id": "2F-xcS4yxlHN"
      },
      "source": [
        "### Tipe Data"
      ]
    },
    {
      "cell_type": "markdown",
      "metadata": {
        "id": "SgWP52IMmFtz"
      },
      "source": [
        "Tipe data adalah kumpulan tipe yang dapat kamu temukan di semua data. Dengan memahami tipe data, kamu dapat menentukan nilai data yang dimiliki dari data tersebut."
      ]
    },
    {
      "cell_type": "markdown",
      "metadata": {
        "id": "llL51Zdwxwpb"
      },
      "source": [
        "\n",
        "**Mengenal Beberapa Tipe Data Pada Python:**\n",
        "1.   String\n",
        "2.   Number (Integer, Float, Complex, Boolean)\n"
      ]
    },
    {
      "cell_type": "markdown",
      "metadata": {
        "id": "eLHFbBYox2WK"
      },
      "source": [
        "**Melihat Tipe Data dari Suatu Variabel**"
      ]
    },
    {
      "cell_type": "markdown",
      "metadata": {
        "id": "kw7AVHzXx3u9"
      },
      "source": [
        "Kamu bisa melihat tipe variabel yang sudah kamu buat,apakah tipe data kamu adalah int, float, boolean, string, dll menggunakan fungsi **type(*variabel*)**, sebagai berikut:"
      ]
    },
    {
      "cell_type": "code",
      "metadata": {
        "id": "0cliBOA8x00W",
        "colab": {
          "base_uri": "https://localhost:8080/"
        },
        "outputId": "09fe618f-b2b0-4382-d254-1c02714667fa"
      },
      "source": [
        "type(var1)"
      ],
      "execution_count": null,
      "outputs": [
        {
          "output_type": "execute_result",
          "data": {
            "text/plain": [
              "str"
            ]
          },
          "metadata": {
            "tags": []
          },
          "execution_count": 24
        }
      ]
    },
    {
      "cell_type": "markdown",
      "metadata": {
        "id": "B6V8BwCbyVIg"
      },
      "source": [
        "Mas Nabil mengecek Tipe Variabel"
      ]
    },
    {
      "cell_type": "code",
      "metadata": {
        "id": "-T8yJE3TyZAn",
        "colab": {
          "base_uri": "https://localhost:8080/"
        },
        "outputId": "a3fd88f1-b1e0-41e6-8a99-6582040594ad"
      },
      "source": [
        "#Mengecek tipe variabel Nabil\n",
        "print(varN1, 'Tipe datanya adalah', type(varN1)) #String\n",
        "\n",
        "print(varN2, 'Tipe datanya adalah', type(varN2)) #Int\n",
        "\n",
        "print(varN3, 'Tipe datanya adalah', type(varN3)) #Float\n",
        "\n",
        "print(varN4, 'Tipe datanya adalah', type(varN4)) #Boolean\n",
        "\n",
        "print(varN5, 'Tipe datanya adalah', type(varN5)) #Complex"
      ],
      "execution_count": null,
      "outputs": [
        {
          "output_type": "stream",
          "text": [
            "Assalamualaikum Hoax World Tipe datanya adalah <class 'str'>\n",
            "5678 Tipe datanya adalah <class 'int'>\n",
            "0.01 Tipe datanya adalah <class 'float'>\n",
            "True Tipe datanya adalah <class 'bool'>\n",
            "(12+6j) Tipe datanya adalah <class 'complex'>\n"
          ],
          "name": "stdout"
        }
      ]
    },
    {
      "cell_type": "markdown",
      "metadata": {
        "id": "2HFv--oSzIGb"
      },
      "source": [
        "### Konversi Tipe Data"
      ]
    },
    {
      "cell_type": "markdown",
      "metadata": {
        "id": "paR8fwYXzK0y"
      },
      "source": [
        "Capek gag sih, bikin data baru mulu untuk sebuah tipe data yang berbeda. Kalo capek ya udah, rehat dulu. Nah ada cara lain sih, yaitu dengan mengubah tipe data yang udah kita miliki menjadi tipe data yang kita inginkan. Kadang gag harus ganti kan, cukup komit untuk merubah hal-hal yang sudah ada sesuai keinginan kita. OK Lanjuut.\n",
        "\n",
        "Intinya mah misal kita punya variabel tipenya int tapi kita butuh variabel itu jadi float ya kita bisa konversi, gimana caranya?\n",
        "\n",
        "Pake fungsi donk, fungsinya macem-macem, tapi intinya adalah fungsinya bernama tipe data baru yang ingin kita buat kemudian inputnya adalah tipe data yang mau kita ubah. Begono.\n",
        "\n"
      ]
    },
    {
      "cell_type": "markdown",
      "metadata": {
        "id": "V3WgQpDQfVdP"
      },
      "source": [
        "Bingung?\n",
        "Ini lho macam-macam fungsinya:\n",
        "\n",
        "Fungsi untuk mengubah/konversi tipe data:\n",
        "\n",
        "a. int() : untuk mengubah menjadi integer\n",
        "\n",
        "b. float() : untuk mengubah menjadi float\n",
        "\n",
        "c. str() : untuk mengubah menjadi string\n",
        "\n",
        "d. bool() : untuk mengubah menjadi boolean\n",
        "\n",
        "e. long() : untuk mengubah menjadi integer panjang\n",
        "\n",
        "f. chr() : untuk mengubah menjadi karakter\n",
        "\n",
        "g. bin() : untuk mengubah menjadi bilangan biner\n",
        "\n",
        "h. hex() : untuk mengubah menjadi bilangan Heksadesimal\n",
        "\n",
        "i. oct() : untuk mengubah menjadi bilangan okta\n",
        "\n",
        "Contohnya ini ya:"
      ]
    },
    {
      "cell_type": "code",
      "metadata": {
        "id": "plkvjAkY0HoX",
        "colab": {
          "base_uri": "https://localhost:8080/"
        },
        "outputId": "689fec8b-e801-43a7-9d08-6d2b690668c1"
      },
      "source": [
        "number = 10\n",
        "print(\"data =\", number, \", type =\", type(number))"
      ],
      "execution_count": null,
      "outputs": [
        {
          "output_type": "stream",
          "text": [
            "data = 10 , type = <class 'int'>\n"
          ],
          "name": "stdout"
        }
      ]
    },
    {
      "cell_type": "markdown",
      "metadata": {
        "id": "QLayxkuqnD4Q"
      },
      "source": [
        "Mas Nabil nyoba konversi"
      ]
    },
    {
      "cell_type": "code",
      "metadata": {
        "id": "usm18JyhBc_l",
        "colab": {
          "base_uri": "https://localhost:8080/"
        },
        "outputId": "0f2282c1-92a4-4e99-fa08-b7e6cd222999"
      },
      "source": [
        "#Mari Kita Coba \n",
        "datatunggal = 7\n",
        "datatunggal2 = 2020\n",
        "print(\"Data = \",datatunggal,\", type nya adalah \", type(datatunggal))\n",
        "print(\"Data = \",datatunggal2,\", type nya adalah \", type(datatunggal2))\n",
        "\n",
        "\n",
        "float_ = float(datatunggal)\n",
        "boolean_ = bool(datatunggal)\n",
        "biner_ = bin(datatunggal2)\n",
        "\n",
        "\n",
        "print(\"Kita coba Liat tipe konversi :\")\n",
        "print(\"Kalau\",float_,\"berarti tipenya\", type(float_))\n",
        "print(\"Kalau\",boolean_,\"berarti tipenya\", type(boolean_))\n",
        "print(\"Kalau\",biner_,\"berarti tipenya\", type(biner_))\n",
        "\n",
        "\n",
        "\n",
        "\n",
        "\n",
        "\n",
        "\n"
      ],
      "execution_count": null,
      "outputs": [
        {
          "output_type": "stream",
          "text": [
            "Data =  7 , type nya adalah  <class 'int'>\n",
            "Data =  2020 , type nya adalah  <class 'int'>\n",
            "Kita coba Liat tipe konversi :\n",
            "Kalau 7.0 berarti tipenya <class 'float'>\n",
            "Kalau True berarti tipenya <class 'bool'>\n",
            "Kalau 0b11111100100 berarti tipenya <class 'str'>\n"
          ],
          "name": "stdout"
        }
      ]
    },
    {
      "cell_type": "markdown",
      "metadata": {
        "id": "BTjZS9m1thuw"
      },
      "source": [
        "## **Berbagai Struktur Data di Python**"
      ]
    },
    {
      "cell_type": "markdown",
      "metadata": {
        "id": "TBsQY66PDWrs"
      },
      "source": [
        "### **List**"
      ]
    },
    {
      "cell_type": "markdown",
      "metadata": {
        "id": "-u6JOj_IDaKk"
      },
      "source": [
        "List adalah jenis kumpulan data terurut (ordered sequence), dan merupakan salah satu variabel yang sering digunakan pada Python. Serupa, namun tak sama dengan array pada bahasa pemrograman lainnya. Bedanya, elemen List pada Python tidak harus memiliki tipe data yang sama. Mendeklarasikan List cukup mudah dengan kurung siku dan elemen yang dipisahkan dengan koma. "
      ]
    },
    {
      "cell_type": "markdown",
      "metadata": {
        "id": "9HjWw49REaRC"
      },
      "source": [
        "*Setiap data di dalamnya dapat diakses dengan indeks yang dimulai dari 0.*"
      ]
    },
    {
      "cell_type": "code",
      "metadata": {
        "id": "dP3www4UEiMu",
        "colab": {
          "base_uri": "https://localhost:8080/"
        },
        "outputId": "d96a2b87-cda1-4acb-8627-000c7026b566"
      },
      "source": [
        "a = [1, 2.2, 'python']\n",
        "a"
      ],
      "execution_count": null,
      "outputs": [
        {
          "output_type": "execute_result",
          "data": {
            "text/plain": [
              "[1, 2.2, 'python']"
            ]
          },
          "metadata": {
            "tags": []
          },
          "execution_count": 29
        }
      ]
    },
    {
      "cell_type": "markdown",
      "metadata": {
        "id": "vhI0ElKOnKxC"
      },
      "source": [
        "Ini dia versi Nabil"
      ]
    },
    {
      "cell_type": "code",
      "metadata": {
        "id": "3jQM3A-vFBHE",
        "colab": {
          "base_uri": "https://localhost:8080/"
        },
        "outputId": "29d1e573-8bd8-40e2-fd3a-8223a43bc6c7"
      },
      "source": [
        "cobadulu = [5, 69, 4.6, 5*5, (16/2), 'itu adalah angka random']\n",
        "cobadulu\n",
        "\n",
        "\n"
      ],
      "execution_count": null,
      "outputs": [
        {
          "output_type": "execute_result",
          "data": {
            "text/plain": [
              "[5, 69, 4.6, 25, 8.0, 'itu adalah angka random']"
            ]
          },
          "metadata": {
            "tags": []
          },
          "execution_count": 105
        }
      ]
    },
    {
      "cell_type": "markdown",
      "metadata": {
        "id": "xB5by4KJEm-3"
      },
      "source": [
        "Python mengenal slicing operator [ ] yang dapat melakukan ekstraksi sebuah item atau beberapa item yang berada dalam range tertentu pada tipe data urutan (sequences), misalnya list, string dan tuple. Beberapa tipe urutan juga mendukung \"extended slicing\" dengan parameter ketiga berupa \"step\"."
      ]
    },
    {
      "cell_type": "markdown",
      "metadata": {
        "id": "yQr2VKIHEp91"
      },
      "source": [
        "* x[0] artinya mengambil elemen paling awal, dengan  index 0 dari List x.\n",
        "\n",
        "* x[5] artinya mengambil elemen dengan index 5 dari List x.\n",
        "\n",
        "* x[-1] artinya mengambil elemen dengan index paling belakang ke-1 dari List x.\n",
        "\n",
        "* x[3:5] artinya membuat list dari anggota elemen List x dengan index 3 hingga sebelum index 5 (tidak termasuk elemen dengan index 5, dalam hal ini hanya index 3-4).\n",
        "\n",
        "* x[:5] artinya membuat list dari anggota elemen List x paling awal hingga sebelum index 5 (tidak termasuk elemen dengan index 5, dalam hal ini hanya index 0-4).\n",
        "\n",
        "* x[-3:] artinya membuat list dari anggota elemen List x mulai index ke-3 dari belakang hingga paling belakang.\n",
        "\n",
        "* x[1:7:2] artinya membuat list dari anggota elemen List x dengan index 1 hingga sebelum index 7, dengan \"step\" 2 (dalam hal ini hanya index 1, 3, 5)."
      ]
    },
    {
      "cell_type": "code",
      "metadata": {
        "id": "VUCcs22SE9YD",
        "colab": {
          "base_uri": "https://localhost:8080/"
        },
        "outputId": "c4ab6f0f-4ffc-47a8-e0ce-a0973b9c7aeb"
      },
      "source": [
        "x = [5,10,15,20,25,30,35,40]\n",
        "print(x[5])\n",
        "print(x[-1])\n",
        "print(x[3:5])\n",
        "print(x[:5])\n",
        "print(x[-3:])\n",
        "print(x[1:7:2])"
      ],
      "execution_count": null,
      "outputs": [
        {
          "output_type": "stream",
          "text": [
            "30\n",
            "40\n",
            "[20, 25]\n",
            "[5, 10, 15, 20, 25]\n",
            "[30, 35, 40]\n",
            "[10, 20, 30]\n"
          ],
          "name": "stdout"
        }
      ]
    },
    {
      "cell_type": "markdown",
      "metadata": {
        "id": "67egXHvonS_-"
      },
      "source": [
        "Gaspooool Sliching"
      ]
    },
    {
      "cell_type": "code",
      "metadata": {
        "id": "novBhwPUFKVp",
        "colab": {
          "base_uri": "https://localhost:8080/"
        },
        "outputId": "6c0918a0-570c-4e53-bd45-16e62c910594"
      },
      "source": [
        "hmm = [1, 2, 3, 4, 5, 6, 7, 8, 9, 10, 11, 12, 13, 14, 15]\n",
        "print(hmm[1])\n",
        "print(hmm[-9])\n",
        "print(hmm[:5]+hmm[-5:])\n",
        "print(hmm[5:9:3],hmm[2:4:2])\n",
        "print(hmm[5:9:3]+hmm[2:4:2])\n",
        "\n",
        "\n",
        "\n"
      ],
      "execution_count": null,
      "outputs": [
        {
          "output_type": "stream",
          "text": [
            "2\n",
            "7\n",
            "[1, 2, 3, 4, 5, 11, 12, 13, 14, 15]\n",
            "[6, 9] [3]\n",
            "[6, 9, 3]\n"
          ],
          "name": "stdout"
        }
      ]
    },
    {
      "cell_type": "markdown",
      "metadata": {
        "id": "QdPay12ZE8qW"
      },
      "source": [
        "Elemen pada list dapat diubah atau ditambahkan. Misalnya untuk melakukan perubahan kemudian penambahan:"
      ]
    },
    {
      "cell_type": "markdown",
      "metadata": {
        "id": "1FwZzKnb9M-K"
      },
      "source": [
        "Saatnya Nabil mencoba\n",
        "\n",
        "\n",
        "\n"
      ]
    },
    {
      "cell_type": "code",
      "metadata": {
        "id": "v_cJVZhOFqQP",
        "colab": {
          "base_uri": "https://localhost:8080/"
        },
        "outputId": "3162f628-1117-4fbb-86b5-77789bbbd3ba"
      },
      "source": [
        "#Kita coba ganti Elemen\n",
        "nbl = [5, 6, 2.5]\n",
        "nbl[0] = 3\n",
        "nbl[1] = nbl[0] + 1\n",
        "print(nbl)\n",
        "\n",
        "#Yang ini nambah elemen sama diganti\n",
        "nbl.append(10)\n",
        "nbl[3]= nbl[3]+2\n",
        "print(nbl)\n",
        "\n",
        "\n"
      ],
      "execution_count": null,
      "outputs": [
        {
          "output_type": "stream",
          "text": [
            "[3, 4, 2.5]\n",
            "[3, 4, 2.5, 12]\n"
          ],
          "name": "stdout"
        }
      ]
    },
    {
      "cell_type": "markdown",
      "metadata": {
        "id": "Qrrd8dGqFRgS"
      },
      "source": [
        "Untuk menghapus item pada list, gunakan fungsi del. *Ingat bahwa Indeks Python dimulai dari 0*:"
      ]
    },
    {
      "cell_type": "markdown",
      "metadata": {
        "id": "V9ZGWkmDnivN"
      },
      "source": [
        "Let's Goooo"
      ]
    },
    {
      "cell_type": "code",
      "metadata": {
        "id": "BWMmSjyzFtrX",
        "colab": {
          "base_uri": "https://localhost:8080/"
        },
        "outputId": "83835233-1399-4d19-8413-a4a7c17f4313"
      },
      "source": [
        "bintang =['Vega','Polaris', 'Sirius', 'Deneb']\n",
        "del bintang[2]\n",
        "print(bintang)\n",
        "\n",
        "\n"
      ],
      "execution_count": null,
      "outputs": [
        {
          "output_type": "stream",
          "text": [
            "['Vega', 'Polaris', 'Deneb']\n"
          ],
          "name": "stdout"
        }
      ]
    },
    {
      "cell_type": "markdown",
      "metadata": {
        "id": "-kbc__RHFyaP"
      },
      "source": [
        "Coba tambahkan kembali:"
      ]
    },
    {
      "cell_type": "markdown",
      "metadata": {
        "id": "lCCqLRGAnnZM"
      },
      "source": [
        "Baik\n"
      ]
    },
    {
      "cell_type": "code",
      "metadata": {
        "id": "5mlv09vRGJWX",
        "colab": {
          "base_uri": "https://localhost:8080/"
        },
        "outputId": "39bcdfc6-59ea-41b4-9c7a-d58ed892ed04"
      },
      "source": [
        "bintang =['Vega','Polaris', 'Sirius', 'Deneb']\n",
        "del bintang[2]\n",
        "print(bintang)\n",
        "del bintang[2]\n",
        "print(bintang)\n",
        "\n",
        "\n"
      ],
      "execution_count": null,
      "outputs": [
        {
          "output_type": "stream",
          "text": [
            "['Vega', 'Polaris', 'Deneb']\n",
            "['Vega', 'Polaris']\n"
          ],
          "name": "stdout"
        }
      ]
    },
    {
      "cell_type": "markdown",
      "metadata": {
        "id": "C9NM4R56F9_e"
      },
      "source": [
        "Slicing pada String"
      ]
    },
    {
      "cell_type": "markdown",
      "metadata": {
        "id": "dPZO0puQGAbG"
      },
      "source": [
        "Karena string mirip dengan list, maka slicing operator [ ]  juga dapat digunakan pada string untuk mengambil isinya atau bahkan substring. Sebuah string utuh bersifat mutable (bisa diubah), namun elemennya bersifat immutable (tidak bisa diubah)."
      ]
    },
    {
      "cell_type": "code",
      "metadata": {
        "id": "DyvdYPs0GGU8"
      },
      "source": [
        "s = \"Assalamualaikum Dunia!\"\n",
        "print(s[4]) \t\t#ambil karakter kelima dari string s\n",
        "print(s[6:11]) \t\t#ambil karakter ketujuh hingga sebelas dari string s\n",
        "s = \"Halo Dunia!\"\t#ubah isi string s menjadi \"Halo Dunia!\", seharusnya berhasil karena mutable\n",
        "print (s)"
      ],
      "execution_count": null,
      "outputs": []
    },
    {
      "cell_type": "code",
      "metadata": {
        "id": "1kjxRvOxGlDc"
      },
      "source": [
        "s[5]=\"d\"        #ubah karakter keenam dari string s menjadi \"d\", seharusnya gagal karena immutable"
      ],
      "execution_count": null,
      "outputs": []
    },
    {
      "cell_type": "markdown",
      "metadata": {
        "id": "qtxJS1UUn4Bx"
      },
      "source": [
        "Markicob"
      ]
    },
    {
      "cell_type": "code",
      "metadata": {
        "id": "NsEGK9mYGMdI",
        "colab": {
          "base_uri": "https://localhost:8080/"
        },
        "outputId": "7063bb68-57bb-45eb-c5b2-511d46c9eade"
      },
      "source": [
        "b = \"Assalamualaikum Ukhti\"\n",
        "print(b[16:21])\n",
        "b = \"Kenalan yuk Ukhti\"\n",
        "print(b)"
      ],
      "execution_count": null,
      "outputs": [
        {
          "output_type": "stream",
          "text": [
            "Ukhti\n",
            "Kenalan yuk Ukhti\n"
          ],
          "name": "stdout"
        }
      ]
    },
    {
      "cell_type": "markdown",
      "metadata": {
        "id": "yfrh-45tGopf"
      },
      "source": [
        "### **Tuple**"
      ]
    },
    {
      "cell_type": "markdown",
      "metadata": {
        "id": "q5-ebJrYGsDd"
      },
      "source": [
        "Tuple adalah jenis dari list yang tidak dapat diubah elemennya. Umumnya tuple digunakan untuk data yang bersifat sekali tulis, dan dapat dieksekusi lebih cepat. Tuple didefinisikan dengan kurung dan elemen yang dipisahkan dengan koma."
      ]
    },
    {
      "cell_type": "code",
      "metadata": {
        "id": "rIVXM9wAGugD"
      },
      "source": [
        "t = (5,'program', 1+3j)\n",
        "t"
      ],
      "execution_count": null,
      "outputs": []
    },
    {
      "cell_type": "markdown",
      "metadata": {
        "id": "SthCvnFyGwo4"
      },
      "source": [
        "Seperti list, kita dapat melakukan slicing, namun pada tuple kita tidak dapat melakukan perubahan:"
      ]
    },
    {
      "cell_type": "code",
      "metadata": {
        "id": "wdkkWKo8G2TZ"
      },
      "source": [
        "t = (5,'program', 1+3j)\n",
        "print(t[1])\n",
        "print(t[0:3])\n"
      ],
      "execution_count": null,
      "outputs": []
    },
    {
      "cell_type": "code",
      "metadata": {
        "id": "LQ_PPY-MG_ZA",
        "colab": {
          "base_uri": "https://localhost:8080/",
          "height": 130
        },
        "outputId": "65dd33d8-9dae-467a-c699-0cc302794b6b"
      },
      "source": [
        "print(t[0]=10) #Kok gagal, kenapa hayoooooo\n",
        "\n",
        "#jawaban Nabil : karena tuple tidak bisa diubah elementnya"
      ],
      "execution_count": null,
      "outputs": [
        {
          "output_type": "error",
          "ename": "SyntaxError",
          "evalue": "ignored",
          "traceback": [
            "\u001b[0;36m  File \u001b[0;32m\"<ipython-input-39-8ad875f67ba4>\"\u001b[0;36m, line \u001b[0;32m1\u001b[0m\n\u001b[0;31m    print(t[0]=10) #Kok gagal, kenapa hayoooooo\u001b[0m\n\u001b[0m         ^\u001b[0m\n\u001b[0;31mSyntaxError\u001b[0m\u001b[0;31m:\u001b[0m keyword can't be an expression\n"
          ]
        }
      ]
    },
    {
      "cell_type": "code",
      "metadata": {
        "id": "nRPuYpMaHFXH",
        "colab": {
          "base_uri": "https://localhost:8080/"
        },
        "outputId": "b4740ea5-a0eb-4de0-b04d-21de65798752"
      },
      "source": [
        "tuplee = ('tes manggil variabel yang udah ada', varN5, umur, bintang)#tuple bikinan sendiri\n",
        "print (tuplee)\n",
        "print(tuplee[1:4])"
      ],
      "execution_count": null,
      "outputs": [
        {
          "output_type": "stream",
          "text": [
            "('tes manggil variabel yang udah ada', (12+6j), '20 ', ['Vega', 'Polaris'])\n",
            "((12+6j), '20 ', ['Vega', 'Polaris'])\n"
          ],
          "name": "stdout"
        }
      ]
    },
    {
      "cell_type": "markdown",
      "metadata": {
        "id": "Ufp-xMDRHWor"
      },
      "source": [
        "### **Set**"
      ]
    },
    {
      "cell_type": "markdown",
      "metadata": {
        "id": "0K6YzzmLHZN1"
      },
      "source": [
        "Set adalah kumpulan item bersifat unik dan tanpa urutan (unordered collection). Didefinisikan dengan kurawal dan elemennya dipisahkan dengan koma. Pada Set kita dapat melakukan union dan intersection, sekaligus otomatis melakukan penghapusan data duplikat."
      ]
    },
    {
      "cell_type": "code",
      "metadata": {
        "id": "adRdgxovHbKI",
        "colab": {
          "base_uri": "https://localhost:8080/"
        },
        "outputId": "8806bc80-2506-49f8-fa69-cdada308d757"
      },
      "source": [
        "a = {1,2,2,3,3,3}\n",
        "print(a)"
      ],
      "execution_count": null,
      "outputs": [
        {
          "output_type": "stream",
          "text": [
            "{1, 2, 3}\n"
          ],
          "name": "stdout"
        }
      ]
    },
    {
      "cell_type": "markdown",
      "metadata": {
        "id": "CXmsYZIwHjpl"
      },
      "source": [
        "Karena set bersifat unordered, maka kita tidak bisa mengambil sebagian data / elemen datanya menggunakan proses slicing."
      ]
    },
    {
      "cell_type": "code",
      "metadata": {
        "id": "gonptHs5Hk3C",
        "colab": {
          "base_uri": "https://localhost:8080/",
          "height": 181
        },
        "outputId": "ee31c8cd-7b11-4a8a-a51f-2e9295cdcbfd"
      },
      "source": [
        "a = {1,2,3}\n",
        "print(a[1])"
      ],
      "execution_count": null,
      "outputs": [
        {
          "output_type": "error",
          "ename": "TypeError",
          "evalue": "ignored",
          "traceback": [
            "\u001b[0;31m---------------------------------------------------------------------------\u001b[0m",
            "\u001b[0;31mTypeError\u001b[0m                                 Traceback (most recent call last)",
            "\u001b[0;32m<ipython-input-42-3732f14f209e>\u001b[0m in \u001b[0;36m<module>\u001b[0;34m()\u001b[0m\n\u001b[1;32m      1\u001b[0m \u001b[0ma\u001b[0m \u001b[0;34m=\u001b[0m \u001b[0;34m{\u001b[0m\u001b[0;36m1\u001b[0m\u001b[0;34m,\u001b[0m\u001b[0;36m2\u001b[0m\u001b[0;34m,\u001b[0m\u001b[0;36m3\u001b[0m\u001b[0;34m}\u001b[0m\u001b[0;34m\u001b[0m\u001b[0;34m\u001b[0m\u001b[0m\n\u001b[0;32m----> 2\u001b[0;31m \u001b[0mprint\u001b[0m\u001b[0;34m(\u001b[0m\u001b[0ma\u001b[0m\u001b[0;34m[\u001b[0m\u001b[0;36m1\u001b[0m\u001b[0;34m]\u001b[0m\u001b[0;34m)\u001b[0m\u001b[0;34m\u001b[0m\u001b[0;34m\u001b[0m\u001b[0m\n\u001b[0m",
            "\u001b[0;31mTypeError\u001b[0m: 'set' object is not subscriptable"
          ]
        }
      ]
    },
    {
      "cell_type": "markdown",
      "metadata": {
        "id": "1FmHwEmNHpAj"
      },
      "source": [
        "### **Dictionary**"
      ]
    },
    {
      "cell_type": "markdown",
      "metadata": {
        "id": "FgjmIuQ0I90t"
      },
      "source": [
        "Dictionary pada Python adalah kumpulan pasangan kunci-nilai (pair of key-value) yang bersifat tidak berurutan. Dictionary dapat digunakan untuk menyimpan data kecil hingga besar. Untuk mengakses datanya, kita harus mengetahui kuncinya (key). Pada Python, dictionary didefinisikan dengan kurawal dan tambahan definisi berikut:"
      ]
    },
    {
      "cell_type": "markdown",
      "metadata": {
        "id": "HRXgW2D3I_-6"
      },
      "source": [
        "1. Setiap elemen pair key-value dipisahkan dengan koma (,).\n",
        "2. Key dan Value dipisahkan dengan titik dua (:).\n",
        "3. Key dan Value dapat berupa tipe variabel/obyek apapun."
      ]
    },
    {
      "cell_type": "code",
      "metadata": {
        "id": "OPuAC6kKJFAQ",
        "colab": {
          "base_uri": "https://localhost:8080/"
        },
        "outputId": "11d47bdd-21cf-482f-e461-620ba5cb9b29"
      },
      "source": [
        "d = {1:'value','key':2}\n",
        "print(type(d))"
      ],
      "execution_count": null,
      "outputs": [
        {
          "output_type": "stream",
          "text": [
            "<class 'dict'>\n"
          ],
          "name": "stdout"
        }
      ]
    },
    {
      "cell_type": "code",
      "metadata": {
        "id": "fvOfhQMsJHi-",
        "colab": {
          "base_uri": "https://localhost:8080/"
        },
        "outputId": "6a7c0be8-f323-4329-8e65-0943e9f3e387"
      },
      "source": [
        "d = {1:'value','key':2}\n",
        "print(type(d))\n",
        "print(\"d[1] = \", d[1]);\n",
        "print(\"d['key'] = \", d['key']);"
      ],
      "execution_count": null,
      "outputs": [
        {
          "output_type": "stream",
          "text": [
            "<class 'dict'>\n",
            "d[1] =  value\n",
            "d['key'] =  2\n"
          ],
          "name": "stdout"
        }
      ]
    },
    {
      "cell_type": "markdown",
      "metadata": {
        "id": "rmfBt8OxJNGI"
      },
      "source": [
        "Dictionary bukan termasuk dalam implementasi urutan (sequences), sehingga tidak bisa dipanggil dengan urutan indeks. Misalnya dalam contoh berikut dicoba dengan indeks 2, tetapi menghasilkan error (KeyError) karena tidak ada kunci (key) 2:"
      ]
    },
    {
      "cell_type": "code",
      "metadata": {
        "id": "6fDwroEqJOK_",
        "colab": {
          "base_uri": "https://localhost:8080/"
        },
        "outputId": "ab3f8f63-a20a-466d-f10c-b974b0557f67"
      },
      "source": [
        "d = {1:'value','key':2}\n",
        "print(type(d))\n",
        "print(\"d[1] = \", d[1]);\n",
        "print(\"d['key'] = \", d['key']);"
      ],
      "execution_count": null,
      "outputs": [
        {
          "output_type": "stream",
          "text": [
            "<class 'dict'>\n",
            "d[1] =  value\n",
            "d['key'] =  2\n"
          ],
          "name": "stdout"
        }
      ]
    },
    {
      "cell_type": "code",
      "metadata": {
        "id": "O5DEeN6PJScD",
        "colab": {
          "base_uri": "https://localhost:8080/",
          "height": 181
        },
        "outputId": "16aa4964-4d97-46d7-85ba-70cfde1b4af3"
      },
      "source": [
        "# Nyobain error\n",
        "print(\"d[2] = \", d[2]);"
      ],
      "execution_count": null,
      "outputs": [
        {
          "output_type": "error",
          "ename": "KeyError",
          "evalue": "ignored",
          "traceback": [
            "\u001b[0;31m---------------------------------------------------------------------------\u001b[0m",
            "\u001b[0;31mKeyError\u001b[0m                                  Traceback (most recent call last)",
            "\u001b[0;32m<ipython-input-46-e6e41397ea50>\u001b[0m in \u001b[0;36m<module>\u001b[0;34m()\u001b[0m\n\u001b[1;32m      1\u001b[0m \u001b[0;31m# Nyobain error\u001b[0m\u001b[0;34m\u001b[0m\u001b[0;34m\u001b[0m\u001b[0;34m\u001b[0m\u001b[0m\n\u001b[0;32m----> 2\u001b[0;31m \u001b[0mprint\u001b[0m\u001b[0;34m(\u001b[0m\u001b[0;34m\"d[2] = \"\u001b[0m\u001b[0;34m,\u001b[0m \u001b[0md\u001b[0m\u001b[0;34m[\u001b[0m\u001b[0;36m2\u001b[0m\u001b[0;34m]\u001b[0m\u001b[0;34m)\u001b[0m\u001b[0;34m;\u001b[0m\u001b[0;34m\u001b[0m\u001b[0;34m\u001b[0m\u001b[0m\n\u001b[0m",
            "\u001b[0;31mKeyError\u001b[0m: 2"
          ]
        }
      ]
    },
    {
      "cell_type": "code",
      "metadata": {
        "id": "Kcw4IRnIJbCA",
        "colab": {
          "base_uri": "https://localhost:8080/"
        },
        "outputId": "5725dfe4-ecfd-4ae9-9eea-4343ce369578"
      },
      "source": [
        "#markicob sendiri\n",
        "dc = {20:'nilai','kunci':30}\n",
        "print(type(dc))\n",
        "print(\"dc[20] adalah \", dc[20]);\n",
        "print(\"dc['kunci'] adalah\", dc['kunci'])\n",
        "\n",
        "\n"
      ],
      "execution_count": null,
      "outputs": [
        {
          "output_type": "stream",
          "text": [
            "<class 'dict'>\n",
            "dc[20] adalah  nilai\n",
            "dc['kunci'] adalah 30\n"
          ],
          "name": "stdout"
        }
      ]
    },
    {
      "cell_type": "markdown",
      "metadata": {
        "id": "Y_mfIBaOCwFd"
      },
      "source": [
        "### **Konversi Struktur Data**"
      ]
    },
    {
      "cell_type": "markdown",
      "metadata": {
        "id": "PxZ9TS3rC02h"
      },
      "source": [
        "Fungsi untuk mengubah/konversi struktur data:\n",
        "\n",
        "a. list() : untuk mengubah menjadi list\n",
        "\n",
        "b. tuple() : untuk mengubah menjadi tuple\n",
        "\n",
        "c. set() : untuk mengubah menjadi set\n",
        "\n",
        "d. dict() : untuk mengubah menjadi dictonary"
      ]
    },
    {
      "cell_type": "markdown",
      "metadata": {
        "id": "hp1bG1BQC4zb"
      },
      "source": [
        "Contoh:"
      ]
    },
    {
      "cell_type": "code",
      "metadata": {
        "id": "apEPtnDUtmkH",
        "colab": {
          "base_uri": "https://localhost:8080/"
        },
        "outputId": "87ca5de9-1934-46e3-8cb2-7b3cf0751805"
      },
      "source": [
        "list1 = [1,2,3,4,5]\n",
        "list2 = [\"satu\",\"dua\",\"tiga\",\"empat\",\"lima\"]\n",
        "print(\"data = \", list1 , \",type =\", type(list1))"
      ],
      "execution_count": null,
      "outputs": [
        {
          "output_type": "stream",
          "text": [
            "data =  [1, 2, 3, 4, 5] ,type = <class 'list'>\n"
          ],
          "name": "stdout"
        }
      ]
    },
    {
      "cell_type": "code",
      "metadata": {
        "id": "9hbpCgC7C9v3",
        "colab": {
          "base_uri": "https://localhost:8080/"
        },
        "outputId": "5c7fa0ed-662c-4e1d-c091-37ddff0859f6"
      },
      "source": [
        "# Mengkonversi struktur data list\n",
        "kon_tuple = tuple(list1)\n",
        "kon_set = set(list1)\n",
        "kon_dict = dict(zip(list2,list1))\n",
        "\n",
        "# Melihat data yang telah dikonversi\n",
        "print(kon_tuple)\n",
        "print(kon_set)\n",
        "print(kon_dict)"
      ],
      "execution_count": null,
      "outputs": [
        {
          "output_type": "stream",
          "text": [
            "(1, 2, 3, 4, 5)\n",
            "{1, 2, 3, 4, 5}\n",
            "{'satu': 1, 'dua': 2, 'tiga': 3, 'empat': 4, 'lima': 5}\n"
          ],
          "name": "stdout"
        }
      ]
    },
    {
      "cell_type": "markdown",
      "metadata": {
        "id": "o5MfcC36Jpxu"
      },
      "source": [
        "Nah sampai sini, coba kamu tulis pemahaman kamu tentang List, Tuple, Set, dan Dictionary, tulis pake bahasa kamu sendiri ya:\n",
        "\n",
        "Jadi yang saya dapat tentang Tuple, Set & Dictionary adalah sebagai berikut :\n",
        "\n",
        "- Tuple : Merupakan bagian dari List, ***akan tetapi*** elemen pada Tuple sama sekali tidak bisa diubah baik itu diganti ataupun dihapus(del). Sehingga bisa dibilang tuple ***cocok*** untuk data sekali tulis dan untuk menulis data dalam tuple maka cukup diawali dengan kurung biasa dan di pisah oleh \",\" dan ditutup oleh kurung biasa pula.\n",
        "\n",
        "- Set : Kumpulan data atau item yang tidak beurutan atau random, nah yang unik dari Set adalah kita bisa melakukan Union dan Intersection dan yang paling enak dari Set adalah adanya *penghapusan data kembar atau duplikat* akan tetapi *kita tidak bisa melakukan slicing* terhadap Set.\n",
        "\n",
        "- Dictionary : Adalah pasangan kunci dan nilai yang dapat menyimpan data besar dan kecil, untuk menggunakannya memerlukan {} dan nah untuk memanggilnya membutuhkan \"kunci\" yang ada pada dictionary dan tidak bisa menggunakan indeks pada dictionary.\n",
        "\n",
        "\n",
        "\n",
        "\n",
        "\n",
        "\n",
        "\n",
        "\n",
        "\n",
        "\n",
        "\n",
        "\n",
        "\n",
        "\n"
      ]
    },
    {
      "cell_type": "markdown",
      "metadata": {
        "id": "3uj7jo-sJ6EF"
      },
      "source": [
        "\n",
        "\n",
        "Alhamdulillah Selesai\n",
        "\n",
        "\n",
        "\n",
        "\n",
        "\n",
        "\n",
        "\n"
      ]
    }
  ]
}